{
 "cells": [
  {
   "cell_type": "markdown",
   "metadata": {},
   "source": [
    "## Introduction\n",
    "\n",
    "Below we will be working with a dataset of video game sales for the hypothetical distribution company Ice. Our task is to make conclusions about sales data ranging from 1985 to 2016 to model sales trends for 2017 and beyond. We will begin by sanitizing and organizing the data before doing some preliminary exploratory data analysis. Then we will test some hypotheses and conclude with some theories about user score statistics."
   ]
  },
  {
   "cell_type": "markdown",
   "metadata": {},
   "source": [
    "## Initializing"
   ]
  },
  {
   "cell_type": "code",
   "execution_count": 1,
   "metadata": {},
   "outputs": [],
   "source": [
    "# Loading all the libraries\n",
    "import pandas as pd\n",
    "from scipy import stats as st\n",
    "import numpy as np\n",
    "\n",
    "# Graphing libraries\n",
    "import plotly.express as px\n",
    "from matplotlib import pyplot as plt\n",
    "from matplotlib.ticker import PercentFormatter as pf"
   ]
  },
  {
   "cell_type": "code",
   "execution_count": 2,
   "metadata": {},
   "outputs": [],
   "source": [
    "# Read the csv into dataframe\n",
    "df_raw = pd.read_csv('./datasets/games.csv')"
   ]
  },
  {
   "cell_type": "code",
   "execution_count": 3,
   "metadata": {
    "scrolled": true
   },
   "outputs": [
    {
     "name": "stdout",
     "output_type": "stream",
     "text": [
      "<class 'pandas.core.frame.DataFrame'>\n",
      "RangeIndex: 16715 entries, 0 to 16714\n",
      "Data columns (total 11 columns):\n",
      " #   Column           Non-Null Count  Dtype  \n",
      "---  ------           --------------  -----  \n",
      " 0   Name             16713 non-null  object \n",
      " 1   Platform         16715 non-null  object \n",
      " 2   Year_of_Release  16446 non-null  float64\n",
      " 3   Genre            16713 non-null  object \n",
      " 4   NA_sales         16715 non-null  float64\n",
      " 5   EU_sales         16715 non-null  float64\n",
      " 6   JP_sales         16715 non-null  float64\n",
      " 7   Other_sales      16715 non-null  float64\n",
      " 8   Critic_Score     8137 non-null   float64\n",
      " 9   User_Score       10014 non-null  object \n",
      " 10  Rating           9949 non-null   object \n",
      "dtypes: float64(6), object(5)\n",
      "memory usage: 1.4+ MB\n"
     ]
    }
   ],
   "source": [
    "# Quick view\n",
    "df_raw.info()"
   ]
  },
  {
   "cell_type": "code",
   "execution_count": 4,
   "metadata": {},
   "outputs": [
    {
     "name": "stdout",
     "output_type": "stream",
     "text": [
      "Missing column values -- by percentage of rows:\n"
     ]
    },
    {
     "data": {
      "text/html": [
       "<div>\n",
       "<style scoped>\n",
       "    .dataframe tbody tr th:only-of-type {\n",
       "        vertical-align: middle;\n",
       "    }\n",
       "\n",
       "    .dataframe tbody tr th {\n",
       "        vertical-align: top;\n",
       "    }\n",
       "\n",
       "    .dataframe thead th {\n",
       "        text-align: right;\n",
       "    }\n",
       "</style>\n",
       "<table border=\"1\" class=\"dataframe\">\n",
       "  <thead>\n",
       "    <tr style=\"text-align: right;\">\n",
       "      <th></th>\n",
       "      <th>missing_values</th>\n",
       "      <th>%</th>\n",
       "    </tr>\n",
       "  </thead>\n",
       "  <tbody>\n",
       "    <tr>\n",
       "      <th>Name</th>\n",
       "      <td>2</td>\n",
       "      <td>0.01</td>\n",
       "    </tr>\n",
       "    <tr>\n",
       "      <th>Platform</th>\n",
       "      <td>0</td>\n",
       "      <td>0.00</td>\n",
       "    </tr>\n",
       "    <tr>\n",
       "      <th>Year_of_Release</th>\n",
       "      <td>269</td>\n",
       "      <td>1.61</td>\n",
       "    </tr>\n",
       "    <tr>\n",
       "      <th>Genre</th>\n",
       "      <td>2</td>\n",
       "      <td>0.01</td>\n",
       "    </tr>\n",
       "    <tr>\n",
       "      <th>NA_sales</th>\n",
       "      <td>0</td>\n",
       "      <td>0.00</td>\n",
       "    </tr>\n",
       "    <tr>\n",
       "      <th>EU_sales</th>\n",
       "      <td>0</td>\n",
       "      <td>0.00</td>\n",
       "    </tr>\n",
       "    <tr>\n",
       "      <th>JP_sales</th>\n",
       "      <td>0</td>\n",
       "      <td>0.00</td>\n",
       "    </tr>\n",
       "    <tr>\n",
       "      <th>Other_sales</th>\n",
       "      <td>0</td>\n",
       "      <td>0.00</td>\n",
       "    </tr>\n",
       "    <tr>\n",
       "      <th>Critic_Score</th>\n",
       "      <td>8578</td>\n",
       "      <td>51.32</td>\n",
       "    </tr>\n",
       "    <tr>\n",
       "      <th>User_Score</th>\n",
       "      <td>6701</td>\n",
       "      <td>40.09</td>\n",
       "    </tr>\n",
       "    <tr>\n",
       "      <th>Rating</th>\n",
       "      <td>6766</td>\n",
       "      <td>40.48</td>\n",
       "    </tr>\n",
       "  </tbody>\n",
       "</table>\n",
       "</div>"
      ],
      "text/plain": [
       "                 missing_values      %\n",
       "Name                          2   0.01\n",
       "Platform                      0   0.00\n",
       "Year_of_Release             269   1.61\n",
       "Genre                         2   0.01\n",
       "NA_sales                      0   0.00\n",
       "EU_sales                      0   0.00\n",
       "JP_sales                      0   0.00\n",
       "Other_sales                   0   0.00\n",
       "Critic_Score               8578  51.32\n",
       "User_Score                 6701  40.09\n",
       "Rating                     6766  40.48"
      ]
     },
     "metadata": {},
     "output_type": "display_data"
    }
   ],
   "source": [
    "# Display percentage of missing values per column\n",
    "missing_values = df_raw.isnull().sum().to_frame('missing_values')\n",
    "missing_values['%'] = round(df_raw.isnull().sum()*100/len(df_raw),2)\n",
    "missing_values.sort_values(by='%', ascending=False)\n",
    "\n",
    "print('Missing column values -- by percentage of rows:')\n",
    "display(missing_values)"
   ]
  },
  {
   "cell_type": "markdown",
   "metadata": {},
   "source": [
    "### Clean the Dataframe\n",
    "\n",
    "Based on the call to `info()` above we see some items needing sanitizing. \n",
    "\n",
    "First and foremost, there are two titles with no name or genre data. These are unusable and since they constitute a fraction of the data, we can simply drop them.\n",
    "\n",
    "We should fill the missing values for 'year_of_release,' 'critic_score,' and 'user_score' with representative values (medians). They are quantitative columns and thus shouldn't have missing values if we can help it. However, it would be easy to skew the data filling such diverse data with simple medians. To avoid this, we will first group games by platform and replace missing values for 'year_of_release' with the median year of release for the game's platform. Then we will group games by genre and replace missing values for 'critic_score' and 'user_score' with median scores for the game's genre.\n",
    "\n",
    "Finally, the 'rating' column is meant to be all strings, and we can interpret missing values as having not received a rating by the ESRB. This is an important metric and shuold not be ignored, and since it is a qualitative column, we can simply categorize all missing entries as 'None.'\n",
    "\n",
    "We will also add a 'total_sales' column defined as the sum of all regions' sales for ease of calculation later."
   ]
  },
  {
   "cell_type": "code",
   "execution_count": 5,
   "metadata": {},
   "outputs": [
    {
     "name": "stdout",
     "output_type": "stream",
     "text": [
      "<class 'pandas.core.frame.DataFrame'>\n",
      "Int64Index: 16713 entries, 0 to 16714\n",
      "Data columns (total 12 columns):\n",
      " #   Column           Non-Null Count  Dtype  \n",
      "---  ------           --------------  -----  \n",
      " 0   name             16713 non-null  object \n",
      " 1   platform         16713 non-null  object \n",
      " 2   year_of_release  16713 non-null  int64  \n",
      " 3   genre            16713 non-null  object \n",
      " 4   na_sales         16713 non-null  float64\n",
      " 5   eu_sales         16713 non-null  float64\n",
      " 6   jp_sales         16713 non-null  float64\n",
      " 7   other_sales      16713 non-null  float64\n",
      " 8   critic_score     16713 non-null  int64  \n",
      " 9   user_score       16713 non-null  float64\n",
      " 10  rating           16713 non-null  object \n",
      " 11  total_sales      16713 non-null  float64\n",
      "dtypes: float64(6), int64(2), object(4)\n",
      "memory usage: 2.2+ MB\n"
     ]
    },
    {
     "data": {
      "text/html": [
       "<div>\n",
       "<style scoped>\n",
       "    .dataframe tbody tr th:only-of-type {\n",
       "        vertical-align: middle;\n",
       "    }\n",
       "\n",
       "    .dataframe tbody tr th {\n",
       "        vertical-align: top;\n",
       "    }\n",
       "\n",
       "    .dataframe thead th {\n",
       "        text-align: right;\n",
       "    }\n",
       "</style>\n",
       "<table border=\"1\" class=\"dataframe\">\n",
       "  <thead>\n",
       "    <tr style=\"text-align: right;\">\n",
       "      <th></th>\n",
       "      <th>name</th>\n",
       "      <th>platform</th>\n",
       "      <th>year_of_release</th>\n",
       "      <th>genre</th>\n",
       "      <th>na_sales</th>\n",
       "      <th>eu_sales</th>\n",
       "      <th>jp_sales</th>\n",
       "      <th>other_sales</th>\n",
       "      <th>critic_score</th>\n",
       "      <th>user_score</th>\n",
       "      <th>rating</th>\n",
       "      <th>total_sales</th>\n",
       "    </tr>\n",
       "  </thead>\n",
       "  <tbody>\n",
       "    <tr>\n",
       "      <th>15238</th>\n",
       "      <td>Catan</td>\n",
       "      <td>DS</td>\n",
       "      <td>2009</td>\n",
       "      <td>Strategy</td>\n",
       "      <td>0.00</td>\n",
       "      <td>0.02</td>\n",
       "      <td>0.00</td>\n",
       "      <td>0.00</td>\n",
       "      <td>73</td>\n",
       "      <td>7.8</td>\n",
       "      <td>None</td>\n",
       "      <td>0.02</td>\n",
       "    </tr>\n",
       "    <tr>\n",
       "      <th>2786</th>\n",
       "      <td>Madagascar: Escape 2 Africa</td>\n",
       "      <td>DS</td>\n",
       "      <td>2008</td>\n",
       "      <td>Action</td>\n",
       "      <td>0.41</td>\n",
       "      <td>0.25</td>\n",
       "      <td>0.00</td>\n",
       "      <td>0.07</td>\n",
       "      <td>55</td>\n",
       "      <td>7.4</td>\n",
       "      <td>E</td>\n",
       "      <td>0.73</td>\n",
       "    </tr>\n",
       "    <tr>\n",
       "      <th>7730</th>\n",
       "      <td>Parlor! Mini 4</td>\n",
       "      <td>SNES</td>\n",
       "      <td>1996</td>\n",
       "      <td>Misc</td>\n",
       "      <td>0.00</td>\n",
       "      <td>0.00</td>\n",
       "      <td>0.19</td>\n",
       "      <td>0.00</td>\n",
       "      <td>69</td>\n",
       "      <td>7.1</td>\n",
       "      <td>None</td>\n",
       "      <td>0.19</td>\n",
       "    </tr>\n",
       "    <tr>\n",
       "      <th>5948</th>\n",
       "      <td>Guardian Heroes</td>\n",
       "      <td>SAT</td>\n",
       "      <td>1995</td>\n",
       "      <td>Role-Playing</td>\n",
       "      <td>0.00</td>\n",
       "      <td>0.00</td>\n",
       "      <td>0.29</td>\n",
       "      <td>0.00</td>\n",
       "      <td>74</td>\n",
       "      <td>7.8</td>\n",
       "      <td>None</td>\n",
       "      <td>0.29</td>\n",
       "    </tr>\n",
       "    <tr>\n",
       "      <th>13884</th>\n",
       "      <td>SWAT: Target Liberty</td>\n",
       "      <td>PSP</td>\n",
       "      <td>2007</td>\n",
       "      <td>Shooter</td>\n",
       "      <td>0.03</td>\n",
       "      <td>0.00</td>\n",
       "      <td>0.00</td>\n",
       "      <td>0.00</td>\n",
       "      <td>50</td>\n",
       "      <td>7.7</td>\n",
       "      <td>T</td>\n",
       "      <td>0.03</td>\n",
       "    </tr>\n",
       "    <tr>\n",
       "      <th>5289</th>\n",
       "      <td>One Piece: Gigant Battle 2 Shin Sekai</td>\n",
       "      <td>DS</td>\n",
       "      <td>2011</td>\n",
       "      <td>Fighting</td>\n",
       "      <td>0.00</td>\n",
       "      <td>0.00</td>\n",
       "      <td>0.35</td>\n",
       "      <td>0.00</td>\n",
       "      <td>72</td>\n",
       "      <td>7.6</td>\n",
       "      <td>None</td>\n",
       "      <td>0.35</td>\n",
       "    </tr>\n",
       "    <tr>\n",
       "      <th>2813</th>\n",
       "      <td>Just Dance 2015</td>\n",
       "      <td>WiiU</td>\n",
       "      <td>2014</td>\n",
       "      <td>Misc</td>\n",
       "      <td>0.38</td>\n",
       "      <td>0.29</td>\n",
       "      <td>0.00</td>\n",
       "      <td>0.06</td>\n",
       "      <td>75</td>\n",
       "      <td>6.6</td>\n",
       "      <td>E10+</td>\n",
       "      <td>0.73</td>\n",
       "    </tr>\n",
       "    <tr>\n",
       "      <th>15808</th>\n",
       "      <td>East India Company</td>\n",
       "      <td>PC</td>\n",
       "      <td>2009</td>\n",
       "      <td>Strategy</td>\n",
       "      <td>0.01</td>\n",
       "      <td>0.00</td>\n",
       "      <td>0.00</td>\n",
       "      <td>0.00</td>\n",
       "      <td>67</td>\n",
       "      <td>5.7</td>\n",
       "      <td>T</td>\n",
       "      <td>0.01</td>\n",
       "    </tr>\n",
       "    <tr>\n",
       "      <th>12539</th>\n",
       "      <td>Digimon All-Star Rumble</td>\n",
       "      <td>X360</td>\n",
       "      <td>2014</td>\n",
       "      <td>Fighting</td>\n",
       "      <td>0.05</td>\n",
       "      <td>0.01</td>\n",
       "      <td>0.00</td>\n",
       "      <td>0.01</td>\n",
       "      <td>72</td>\n",
       "      <td>5.7</td>\n",
       "      <td>E10+</td>\n",
       "      <td>0.07</td>\n",
       "    </tr>\n",
       "    <tr>\n",
       "      <th>12822</th>\n",
       "      <td>Ride to Hell</td>\n",
       "      <td>X360</td>\n",
       "      <td>2013</td>\n",
       "      <td>Racing</td>\n",
       "      <td>0.04</td>\n",
       "      <td>0.01</td>\n",
       "      <td>0.00</td>\n",
       "      <td>0.01</td>\n",
       "      <td>19</td>\n",
       "      <td>1.3</td>\n",
       "      <td>M</td>\n",
       "      <td>0.06</td>\n",
       "    </tr>\n",
       "  </tbody>\n",
       "</table>\n",
       "</div>"
      ],
      "text/plain": [
       "                                        name platform  year_of_release  \\\n",
       "15238                                  Catan       DS             2009   \n",
       "2786             Madagascar: Escape 2 Africa       DS             2008   \n",
       "7730                          Parlor! Mini 4     SNES             1996   \n",
       "5948                         Guardian Heroes      SAT             1995   \n",
       "13884                   SWAT: Target Liberty      PSP             2007   \n",
       "5289   One Piece: Gigant Battle 2 Shin Sekai       DS             2011   \n",
       "2813                         Just Dance 2015     WiiU             2014   \n",
       "15808                     East India Company       PC             2009   \n",
       "12539                Digimon All-Star Rumble     X360             2014   \n",
       "12822                           Ride to Hell     X360             2013   \n",
       "\n",
       "              genre  na_sales  eu_sales  jp_sales  other_sales  critic_score  \\\n",
       "15238      Strategy      0.00      0.02      0.00         0.00            73   \n",
       "2786         Action      0.41      0.25      0.00         0.07            55   \n",
       "7730           Misc      0.00      0.00      0.19         0.00            69   \n",
       "5948   Role-Playing      0.00      0.00      0.29         0.00            74   \n",
       "13884       Shooter      0.03      0.00      0.00         0.00            50   \n",
       "5289       Fighting      0.00      0.00      0.35         0.00            72   \n",
       "2813           Misc      0.38      0.29      0.00         0.06            75   \n",
       "15808      Strategy      0.01      0.00      0.00         0.00            67   \n",
       "12539      Fighting      0.05      0.01      0.00         0.01            72   \n",
       "12822        Racing      0.04      0.01      0.00         0.01            19   \n",
       "\n",
       "       user_score rating  total_sales  \n",
       "15238         7.8   None         0.02  \n",
       "2786          7.4      E         0.73  \n",
       "7730          7.1   None         0.19  \n",
       "5948          7.8   None         0.29  \n",
       "13884         7.7      T         0.03  \n",
       "5289          7.6   None         0.35  \n",
       "2813          6.6   E10+         0.73  \n",
       "15808         5.7      T         0.01  \n",
       "12539         5.7   E10+         0.07  \n",
       "12822         1.3      M         0.06  "
      ]
     },
     "metadata": {},
     "output_type": "display_data"
    }
   ],
   "source": [
    "# Rename columns\n",
    "df_raw.rename(str.lower, axis='columns', inplace=True)\n",
    "\n",
    "# Delete rows with no name or genre (only 2 titles out of 16715)\n",
    "df_raw.dropna(subset=['name'], inplace=True)\n",
    "\n",
    "# Replace NaNs of 'year_of_release' with median representative value grouped by platform. Cast to int64\n",
    "year_median_by_platform = df_raw.groupby('platform')['year_of_release'].median()\n",
    "\n",
    "for platform in year_median_by_platform.index:\n",
    "    df_raw['year_of_release'] = df_raw['year_of_release'].where((df_raw['platform'] != platform) | (~df_raw['year_of_release'].isna()), year_median_by_platform[platform])\n",
    "    \n",
    "# There is an erroneous entry for the DS whose year_of_release should also be replaced with the median year for the DS\n",
    "df_raw.loc[15957, 'year_of_release'] = year_median_by_platform['DS']\n",
    "df_raw['year_of_release'] = df_raw['year_of_release'].astype('int64')\n",
    "\n",
    "# Replace NaNs of 'critic_score' with median representative value grouped by genre. Cast to int64\n",
    "cscore_median_by_genre = df_raw.groupby('genre')['critic_score'].median()\n",
    "for genre in cscore_median_by_genre.index:\n",
    "    df_raw['critic_score'] = df_raw['critic_score'].where((df_raw['genre'] != genre) | (~df_raw['critic_score'].isna()), cscore_median_by_genre[genre])\n",
    "df_raw['critic_score'] = df_raw['critic_score'].astype('int64')\n",
    "\n",
    "# The 'user_score' column is type object (string). First, we replace 'tbd' values with nans.\n",
    "# Replace NaNs of 'user_score' with median representative value grouped by genre. Values are decimal so won't cast to int64\n",
    "df_raw['user_score'] = df_raw['user_score'].replace('tbd', 'nan')\n",
    "df_raw['user_score'] = df_raw['user_score'].astype('float')\n",
    "uscore_median_by_genre = df_raw.groupby('genre')['user_score'].median()\n",
    "for genre in uscore_median_by_genre.index:\n",
    "    df_raw['user_score'] = df_raw['user_score'].where((df_raw['genre'] != genre) | (~df_raw['user_score'].isna()), uscore_median_by_genre[genre])\n",
    "    \n",
    "# Replace NaNs of 'rating' with 'None' string so we may cast to string\n",
    "df_raw['rating'] = df_raw['rating'].fillna('None')\n",
    "df_raw['rating'] = df_raw['rating'].astype('str')\n",
    "\n",
    "# Calculate total sales\n",
    "df_raw['total_sales'] = df_raw.loc[:,['na_sales', 'eu_sales', 'jp_sales', 'other_sales']].sum(axis=1, min_count=1)\n",
    "\n",
    "# Confirm no NaNs and new column types\n",
    "df_raw.info()\n",
    "display(df_raw.sample(10))"
   ]
  },
  {
   "cell_type": "markdown",
   "metadata": {},
   "source": [
    "## Platform Performance Analysis"
   ]
  },
  {
   "cell_type": "markdown",
   "metadata": {},
   "source": [
    "### Top Five Platforms of All Time\n",
    "\n",
    "We will now look at the performances of past gaming platforms to isolate the most relevant years to continue to look at. We care about the life cycle of a platform -- its rise, its popular years, and its fall. First, we will look at the life cycle of the top five video game platforms of all time, and then leverage this information analyzing the platforms of 2016."
   ]
  },
  {
   "cell_type": "code",
   "execution_count": 6,
   "metadata": {},
   "outputs": [
    {
     "data": {
      "image/png": "[encoded data removed]",
      "text/plain": [
       "<Figure size 432x288 with 1 Axes>"
      ]
     },
     "metadata": {
      "needs_background": "light"
     },
     "output_type": "display_data"
    }
   ],
   "source": [
    "# Games released per year simple plot\n",
    "df_raw.groupby('year_of_release')['name'].count().plot()\n",
    "plt.title('Total Number of Unique Games By Year of Release')\n",
    "plt.ylabel('Games')\n",
    "plt.xlabel('Year of Release')\n",
    "plt.show()"
   ]
  },
  {
   "cell_type": "markdown",
   "metadata": {},
   "source": [
    "Games released really make a leap around the millennium, especially in conjunction with the rise of the PS2, the top-selling platform of all time. Sales peak in 2008, and much like the millenium peak, this too could be driven by particular platforms. We should turn our attention to the popularity of top platforms over the years."
   ]
  },
  {
   "cell_type": "code",
   "execution_count": 7,
   "metadata": {},
   "outputs": [
    {
     "data": {
      "image/png": "[encoded data removed]",
      "text/plain": [
       "<Figure size 432x288 with 1 Axes>"
      ]
     },
     "metadata": {
      "needs_background": "light"
     },
     "output_type": "display_data"
    }
   ],
   "source": [
    "# Determine the top five most popular platforms\n",
    "top_five_platforms = list(df_raw.groupby('platform')['total_sales'].sum().sort_values(ascending=False).head(5).index)\n",
    "df_topfive = df_raw.query(\"platform in @top_five_platforms\")\n",
    "\n",
    "# Graph total sales over the years with legend\n",
    "fig, ax = plt.subplots()\n",
    "ax.clear()\n",
    "for platform in top_five_platforms:\n",
    "    ax.plot(df_topfive.query('platform == @platform').groupby('year_of_release')['total_sales'].sum())\n",
    "\n",
    "plt.legend(top_five_platforms)\n",
    "plt.ylabel('Gross Sales (Millions of USD)')\n",
    "plt.xlabel('Year')\n",
    "plt.xticks(rotation=45)\n",
    "plt.title('Top Five Gaming Platform Sales by Year')\n",
    "plt.show()"
   ]
  },
  {
   "cell_type": "markdown",
   "metadata": {},
   "source": [
    "It seems the peak in 2008-2009 is driven by four out of the top five platforms of all time performing exceptionally well at the same time.\n",
    "\n",
    "Truly exceptional platforms have peak sales for about 5 to 6 good years before dropping off. We should figure out some basic temporal metrics describing where a platform is in this life cycle. We'll create a function that does just this for us, and look at what these metrics look like for the top five platforms of all time:"
   ]
  },
  {
   "cell_type": "code",
   "execution_count": 8,
   "metadata": {},
   "outputs": [
    {
     "data": {
      "text/html": [
       "<div>\n",
       "<style scoped>\n",
       "    .dataframe tbody tr th:only-of-type {\n",
       "        vertical-align: middle;\n",
       "    }\n",
       "\n",
       "    .dataframe tbody tr th {\n",
       "        vertical-align: top;\n",
       "    }\n",
       "\n",
       "    .dataframe thead th {\n",
       "        text-align: right;\n",
       "    }\n",
       "</style>\n",
       "<table border=\"1\" class=\"dataframe\">\n",
       "  <thead>\n",
       "    <tr style=\"text-align: right;\">\n",
       "      <th></th>\n",
       "      <th>platform</th>\n",
       "      <th>intro_year</th>\n",
       "      <th>first_perc_year</th>\n",
       "      <th>peak_year</th>\n",
       "      <th>last_perc_year</th>\n",
       "      <th>drop_year</th>\n",
       "      <th>unique_titles</th>\n",
       "      <th>total_sales</th>\n",
       "    </tr>\n",
       "  </thead>\n",
       "  <tbody>\n",
       "    <tr>\n",
       "      <th>0</th>\n",
       "      <td>PS2</td>\n",
       "      <td>2000</td>\n",
       "      <td>2001</td>\n",
       "      <td>2004</td>\n",
       "      <td>2005</td>\n",
       "      <td>2010</td>\n",
       "      <td>2161</td>\n",
       "      <td>1255.77</td>\n",
       "    </tr>\n",
       "    <tr>\n",
       "      <th>1</th>\n",
       "      <td>X360</td>\n",
       "      <td>2005</td>\n",
       "      <td>2007</td>\n",
       "      <td>2010</td>\n",
       "      <td>2012</td>\n",
       "      <td>2016</td>\n",
       "      <td>1262</td>\n",
       "      <td>971.42</td>\n",
       "    </tr>\n",
       "    <tr>\n",
       "      <th>2</th>\n",
       "      <td>PS3</td>\n",
       "      <td>2006</td>\n",
       "      <td>2008</td>\n",
       "      <td>2011</td>\n",
       "      <td>2013</td>\n",
       "      <td>2016</td>\n",
       "      <td>1331</td>\n",
       "      <td>939.65</td>\n",
       "    </tr>\n",
       "    <tr>\n",
       "      <th>3</th>\n",
       "      <td>Wii</td>\n",
       "      <td>2006</td>\n",
       "      <td>2006</td>\n",
       "      <td>2009</td>\n",
       "      <td>2010</td>\n",
       "      <td>2013</td>\n",
       "      <td>1320</td>\n",
       "      <td>907.51</td>\n",
       "    </tr>\n",
       "    <tr>\n",
       "      <th>4</th>\n",
       "      <td>DS</td>\n",
       "      <td>2004</td>\n",
       "      <td>2005</td>\n",
       "      <td>2008</td>\n",
       "      <td>2010</td>\n",
       "      <td>2013</td>\n",
       "      <td>2151</td>\n",
       "      <td>806.12</td>\n",
       "    </tr>\n",
       "  </tbody>\n",
       "</table>\n",
       "</div>"
      ],
      "text/plain": [
       "  platform  intro_year  first_perc_year  peak_year  last_perc_year  drop_year  \\\n",
       "0      PS2        2000             2001       2004            2005       2010   \n",
       "1     X360        2005             2007       2010            2012       2016   \n",
       "2      PS3        2006             2008       2011            2013       2016   \n",
       "3      Wii        2006             2006       2009            2010       2013   \n",
       "4       DS        2004             2005       2008            2010       2013   \n",
       "\n",
       "   unique_titles  total_sales  \n",
       "0           2161      1255.77  \n",
       "1           1262       971.42  \n",
       "2           1331       939.65  \n",
       "3           1320       907.51  \n",
       "4           2151       806.12  "
      ]
     },
     "metadata": {},
     "output_type": "display_data"
    }
   ],
   "source": [
    "'''\n",
    "New dataframe for the top five platforms' temporal performance metrics:\n",
    "    'platform': The platform in question    \n",
    "    'intro_year': The year the first sales for this platform occurred\n",
    "    'first_perc_year': The earliest year in which sales exceed the threshold percentile (usu. 50%) of peak sales\n",
    "    'peak_year': The year of highest gross sales for this platform\n",
    "    'last_perc_year': The latest year in which the sales exceed the threshold percentile (usu. 50%) of peak sales; NaN if no valid year\n",
    "    'drop_year': The earliest year after peak sales in which sales were lower than 5% of peak sales; NaN if no valid year\n",
    "    'unique_titles': The total number of unique titles in the sales data for this platform\n",
    "    'total_sales': The total sales across all years for this platform\n",
    "'''\n",
    "\n",
    "data = []\n",
    "thresh_percentile = 0.5\n",
    "dropoff_percentile = 0.05\n",
    "cols = ['platform', 'intro_year', 'first_perc_year', 'peak_year', 'last_perc_year', 'drop_year', 'unique_titles', 'total_sales']\n",
    "\n",
    "def row_creator_fun(dframe, platform):\n",
    "    platform_sales_df = dframe.query('platform == @platform').groupby('year_of_release')['total_sales'].sum().reset_index()\n",
    "    max_sales = platform_sales_df['total_sales'].max()\n",
    "    peak_year = platform_sales_df.query('total_sales == @max_sales')['year_of_release'].min()\n",
    "    \n",
    "    # Calculate relevant years of performance indicators for the platforms and return a row\n",
    "    return [\n",
    "        platform, # platform\n",
    "        platform_sales_df['year_of_release'].min(), # first_year\n",
    "        platform_sales_df.query('total_sales > (@thresh_percentile * @max_sales) and year_of_release <= @peak_year')['year_of_release'].min(), # first_perc_year\n",
    "        peak_year, # peak_year\n",
    "        platform_sales_df.query('total_sales > (@thresh_percentile * @max_sales) and year_of_release >= @peak_year')['year_of_release'].max(), # last_perc_year\n",
    "        platform_sales_df.query('total_sales <= (@dropoff_percentile * @max_sales) and year_of_release >= @peak_year')['year_of_release'].min(), # drop_year\n",
    "        dframe.query('platform == @platform')['name'].count(), # unique_titles\n",
    "        platform_sales_df['total_sales'].sum() #total_sales\n",
    "    ]\n",
    "\n",
    "for platform in top_five_platforms:\n",
    "    data.append(row_creator_fun(df_topfive, platform))\n",
    "top_five_metrics = pd.DataFrame(data, columns=cols)\n",
    "display(top_five_metrics)"
   ]
  },
  {
   "cell_type": "markdown",
   "metadata": {},
   "source": [
    "The time period to invest in a top-performing platform is, on average, 6 to 8 years, beginning with its inception. After this point, the yearly gross sales are below 50% of their peak sales and it is time to invest in a new platform. Furthermore, a peak performance year actually tends to signal a forecoming dropoff: after a platform has hit its peak, within two years it will drop to below 50% of peak sales.\n",
    "\n",
    "### Modern platforms\n",
    "\n",
    "We would like to filter the data for the rest of our analysis to only include relevant years for top-performing platforms in the current era. After all, we want to model for the immediate future, and so are less interested in far-past data. For 2016 we will calculate the top ten grossing platforms and trace back their starting years to determine how far back our data should continue to reach."
   ]
  },
  {
   "cell_type": "code",
   "execution_count": 9,
   "metadata": {},
   "outputs": [
    {
     "data": {
      "text/plain": [
       "platform\n",
       "PS4     69.25\n",
       "XOne    26.15\n",
       "3DS     15.14\n",
       "PC       5.25\n",
       "WiiU     4.60\n",
       "PSV      4.25\n",
       "PS3      3.60\n",
       "X360     1.52\n",
       "Wii      0.18\n",
       "Name: total_sales, dtype: float64"
      ]
     },
     "metadata": {},
     "output_type": "display_data"
    },
    {
     "data": {
      "text/html": [
       "<div>\n",
       "<style scoped>\n",
       "    .dataframe tbody tr th:only-of-type {\n",
       "        vertical-align: middle;\n",
       "    }\n",
       "\n",
       "    .dataframe tbody tr th {\n",
       "        vertical-align: top;\n",
       "    }\n",
       "\n",
       "    .dataframe thead th {\n",
       "        text-align: right;\n",
       "    }\n",
       "</style>\n",
       "<table border=\"1\" class=\"dataframe\">\n",
       "  <thead>\n",
       "    <tr style=\"text-align: right;\">\n",
       "      <th></th>\n",
       "      <th>platform</th>\n",
       "      <th>intro_year</th>\n",
       "      <th>first_perc_year</th>\n",
       "      <th>peak_year</th>\n",
       "      <th>last_perc_year</th>\n",
       "      <th>drop_year</th>\n",
       "      <th>unique_titles</th>\n",
       "      <th>total_sales</th>\n",
       "    </tr>\n",
       "  </thead>\n",
       "  <tbody>\n",
       "    <tr>\n",
       "      <th>0</th>\n",
       "      <td>PS4</td>\n",
       "      <td>2013</td>\n",
       "      <td>2014</td>\n",
       "      <td>2015</td>\n",
       "      <td>2016</td>\n",
       "      <td>NaN</td>\n",
       "      <td>392</td>\n",
       "      <td>314.14</td>\n",
       "    </tr>\n",
       "    <tr>\n",
       "      <th>1</th>\n",
       "      <td>XOne</td>\n",
       "      <td>2013</td>\n",
       "      <td>2014</td>\n",
       "      <td>2015</td>\n",
       "      <td>2015</td>\n",
       "      <td>NaN</td>\n",
       "      <td>247</td>\n",
       "      <td>159.32</td>\n",
       "    </tr>\n",
       "    <tr>\n",
       "      <th>2</th>\n",
       "      <td>3DS</td>\n",
       "      <td>2011</td>\n",
       "      <td>2011</td>\n",
       "      <td>2011</td>\n",
       "      <td>2014</td>\n",
       "      <td>NaN</td>\n",
       "      <td>520</td>\n",
       "      <td>259.00</td>\n",
       "    </tr>\n",
       "    <tr>\n",
       "      <th>3</th>\n",
       "      <td>PC</td>\n",
       "      <td>1985</td>\n",
       "      <td>2010</td>\n",
       "      <td>2011</td>\n",
       "      <td>2012</td>\n",
       "      <td>NaN</td>\n",
       "      <td>974</td>\n",
       "      <td>259.52</td>\n",
       "    </tr>\n",
       "    <tr>\n",
       "      <th>4</th>\n",
       "      <td>WiiU</td>\n",
       "      <td>2012</td>\n",
       "      <td>2012</td>\n",
       "      <td>2014</td>\n",
       "      <td>2015</td>\n",
       "      <td>NaN</td>\n",
       "      <td>147</td>\n",
       "      <td>82.19</td>\n",
       "    </tr>\n",
       "    <tr>\n",
       "      <th>5</th>\n",
       "      <td>PSV</td>\n",
       "      <td>2011</td>\n",
       "      <td>2012</td>\n",
       "      <td>2012</td>\n",
       "      <td>2014</td>\n",
       "      <td>NaN</td>\n",
       "      <td>430</td>\n",
       "      <td>54.07</td>\n",
       "    </tr>\n",
       "    <tr>\n",
       "      <th>6</th>\n",
       "      <td>PS3</td>\n",
       "      <td>2006</td>\n",
       "      <td>2008</td>\n",
       "      <td>2011</td>\n",
       "      <td>2013</td>\n",
       "      <td>2016.0</td>\n",
       "      <td>1331</td>\n",
       "      <td>939.65</td>\n",
       "    </tr>\n",
       "    <tr>\n",
       "      <th>7</th>\n",
       "      <td>X360</td>\n",
       "      <td>2005</td>\n",
       "      <td>2007</td>\n",
       "      <td>2010</td>\n",
       "      <td>2012</td>\n",
       "      <td>2016.0</td>\n",
       "      <td>1262</td>\n",
       "      <td>971.42</td>\n",
       "    </tr>\n",
       "    <tr>\n",
       "      <th>8</th>\n",
       "      <td>Wii</td>\n",
       "      <td>2006</td>\n",
       "      <td>2006</td>\n",
       "      <td>2009</td>\n",
       "      <td>2010</td>\n",
       "      <td>2013.0</td>\n",
       "      <td>1320</td>\n",
       "      <td>907.51</td>\n",
       "    </tr>\n",
       "  </tbody>\n",
       "</table>\n",
       "</div>"
      ],
      "text/plain": [
       "  platform  intro_year  first_perc_year  peak_year  last_perc_year  drop_year  \\\n",
       "0      PS4        2013             2014       2015            2016        NaN   \n",
       "1     XOne        2013             2014       2015            2015        NaN   \n",
       "2      3DS        2011             2011       2011            2014        NaN   \n",
       "3       PC        1985             2010       2011            2012        NaN   \n",
       "4     WiiU        2012             2012       2014            2015        NaN   \n",
       "5      PSV        2011             2012       2012            2014        NaN   \n",
       "6      PS3        2006             2008       2011            2013     2016.0   \n",
       "7     X360        2005             2007       2010            2012     2016.0   \n",
       "8      Wii        2006             2006       2009            2010     2013.0   \n",
       "\n",
       "   unique_titles  total_sales  \n",
       "0            392       314.14  \n",
       "1            247       159.32  \n",
       "2            520       259.00  \n",
       "3            974       259.52  \n",
       "4            147        82.19  \n",
       "5            430        54.07  \n",
       "6           1331       939.65  \n",
       "7           1262       971.42  \n",
       "8           1320       907.51  "
      ]
     },
     "metadata": {},
     "output_type": "display_data"
    }
   ],
   "source": [
    "# Calculate top ten performing platforms in 2016\n",
    "top_ten_2016_series = df_raw.query('year_of_release == 2016').groupby('platform')['total_sales'].sum().sort_values(ascending=False).head(10)\n",
    "display(top_ten_2016_series)\n",
    "top_ten_2016_platforms = top_ten_2016_series.index\n",
    "\n",
    "# Use above metrics function to determine where in their life cycle the platforms are\n",
    "data = []\n",
    "for platform in top_ten_2016_platforms:\n",
    "    data.append(row_creator_fun(df_raw, platform))\n",
    "top_2016_df = pd.DataFrame(data, columns=cols)\n",
    "display(top_2016_df)"
   ]
  },
  {
   "cell_type": "markdown",
   "metadata": {},
   "source": [
    "It turns out there are only nine platforms with new title releases in 2016. We may isolate three of these platforms with sales in 2016 which are nonetheless irrelevant: the PS3, X360, and Wii platforms all have 2016 sales below 5% of their peak sales. We may remove these from our new dataframe, as well as the 'drop_year' column, which has become irrelevant for the six remaining well-performing platforms of 2016.\n",
    "\n",
    "A quick note that the PC is an exceptional platform due to its continually-evolving nature. While the generations of platforms such as the Playstation get rebranded and emblazoned with new titles every six or so years, every successive operating system in PC still gets lumped under the name \"PC\" for the sake of sales data. We shouldn't be looking at 1985 data for the PC if sales didn't even reach half of their peak until 2010. We should therefore find a different value for 'intro_year.' The operating system that would have been active during 2010-2012, the primary booming years of PC sales, was Windows 7, which was released in 2009, so we should replace the 'intro_year' of PC with 2009:"
   ]
  },
  {
   "cell_type": "code",
   "execution_count": 10,
   "metadata": {},
   "outputs": [],
   "source": [
    "# Drop the rows containing data for the PS3, X360, and Wii platforms\n",
    "top_2016_df.drop(top_2016_df.index[[6, 7, 8]], inplace=True)\n",
    "top_2016_df.drop('drop_year', axis=1, inplace=True)\n",
    "\n",
    "# Introduction year of Windows 7 is a more reasonable start year for modern data regarding PC sales\n",
    "top_2016_df['intro_year'] = top_2016_df['intro_year'].replace(1985, 2009)"
   ]
  },
  {
   "cell_type": "markdown",
   "metadata": {},
   "source": [
    "The earliest year of sales with these six platforms is 2009. Now that we will move into analyzing these six platforms and their games more in depth, we should isolate the main dataset dataframe to only sales after 2009."
   ]
  },
  {
   "cell_type": "code",
   "execution_count": 11,
   "metadata": {},
   "outputs": [
    {
     "data": {
      "text/html": [
       "<div>\n",
       "<style scoped>\n",
       "    .dataframe tbody tr th:only-of-type {\n",
       "        vertical-align: middle;\n",
       "    }\n",
       "\n",
       "    .dataframe tbody tr th {\n",
       "        vertical-align: top;\n",
       "    }\n",
       "\n",
       "    .dataframe thead th {\n",
       "        text-align: right;\n",
       "    }\n",
       "</style>\n",
       "<table border=\"1\" class=\"dataframe\">\n",
       "  <thead>\n",
       "    <tr style=\"text-align: right;\">\n",
       "      <th></th>\n",
       "      <th>name</th>\n",
       "      <th>platform</th>\n",
       "      <th>year_of_release</th>\n",
       "      <th>genre</th>\n",
       "      <th>na_sales</th>\n",
       "      <th>eu_sales</th>\n",
       "      <th>jp_sales</th>\n",
       "      <th>other_sales</th>\n",
       "      <th>critic_score</th>\n",
       "      <th>user_score</th>\n",
       "      <th>rating</th>\n",
       "      <th>total_sales</th>\n",
       "    </tr>\n",
       "  </thead>\n",
       "  <tbody>\n",
       "    <tr>\n",
       "      <th>15483</th>\n",
       "      <td>RollerCoaster Tycoon World</td>\n",
       "      <td>PC</td>\n",
       "      <td>2016</td>\n",
       "      <td>Simulation</td>\n",
       "      <td>0.00</td>\n",
       "      <td>0.02</td>\n",
       "      <td>0.00</td>\n",
       "      <td>0.00</td>\n",
       "      <td>43</td>\n",
       "      <td>2.4</td>\n",
       "      <td>E</td>\n",
       "      <td>0.02</td>\n",
       "    </tr>\n",
       "    <tr>\n",
       "      <th>15911</th>\n",
       "      <td>Psychedelica of the Black Butterfly</td>\n",
       "      <td>PSV</td>\n",
       "      <td>2015</td>\n",
       "      <td>Action</td>\n",
       "      <td>0.00</td>\n",
       "      <td>0.00</td>\n",
       "      <td>0.02</td>\n",
       "      <td>0.00</td>\n",
       "      <td>68</td>\n",
       "      <td>7.4</td>\n",
       "      <td>None</td>\n",
       "      <td>0.02</td>\n",
       "    </tr>\n",
       "    <tr>\n",
       "      <th>11641</th>\n",
       "      <td>Major League Baseball 2K12</td>\n",
       "      <td>DS</td>\n",
       "      <td>2012</td>\n",
       "      <td>Sports</td>\n",
       "      <td>0.07</td>\n",
       "      <td>0.00</td>\n",
       "      <td>0.00</td>\n",
       "      <td>0.01</td>\n",
       "      <td>75</td>\n",
       "      <td>7.4</td>\n",
       "      <td>E</td>\n",
       "      <td>0.08</td>\n",
       "    </tr>\n",
       "    <tr>\n",
       "      <th>14025</th>\n",
       "      <td>Super Hero Generation</td>\n",
       "      <td>PSV</td>\n",
       "      <td>2014</td>\n",
       "      <td>Role-Playing</td>\n",
       "      <td>0.00</td>\n",
       "      <td>0.00</td>\n",
       "      <td>0.04</td>\n",
       "      <td>0.00</td>\n",
       "      <td>74</td>\n",
       "      <td>7.8</td>\n",
       "      <td>None</td>\n",
       "      <td>0.04</td>\n",
       "    </tr>\n",
       "    <tr>\n",
       "      <th>6955</th>\n",
       "      <td>NBA Live 15</td>\n",
       "      <td>PS4</td>\n",
       "      <td>2014</td>\n",
       "      <td>Sports</td>\n",
       "      <td>0.16</td>\n",
       "      <td>0.04</td>\n",
       "      <td>0.00</td>\n",
       "      <td>0.04</td>\n",
       "      <td>59</td>\n",
       "      <td>5.6</td>\n",
       "      <td>E</td>\n",
       "      <td>0.24</td>\n",
       "    </tr>\n",
       "    <tr>\n",
       "      <th>16447</th>\n",
       "      <td>The Train Giant</td>\n",
       "      <td>PC</td>\n",
       "      <td>2012</td>\n",
       "      <td>Strategy</td>\n",
       "      <td>0.00</td>\n",
       "      <td>0.01</td>\n",
       "      <td>0.00</td>\n",
       "      <td>0.00</td>\n",
       "      <td>73</td>\n",
       "      <td>7.8</td>\n",
       "      <td>None</td>\n",
       "      <td>0.01</td>\n",
       "    </tr>\n",
       "    <tr>\n",
       "      <th>15086</th>\n",
       "      <td>Cross Ange: Tenshi to Ryuu no Rondo tr.</td>\n",
       "      <td>PSV</td>\n",
       "      <td>2015</td>\n",
       "      <td>Action</td>\n",
       "      <td>0.00</td>\n",
       "      <td>0.00</td>\n",
       "      <td>0.02</td>\n",
       "      <td>0.00</td>\n",
       "      <td>68</td>\n",
       "      <td>7.4</td>\n",
       "      <td>None</td>\n",
       "      <td>0.02</td>\n",
       "    </tr>\n",
       "    <tr>\n",
       "      <th>3593</th>\n",
       "      <td>Yokai Sangokushi</td>\n",
       "      <td>3DS</td>\n",
       "      <td>2016</td>\n",
       "      <td>Action</td>\n",
       "      <td>0.00</td>\n",
       "      <td>0.00</td>\n",
       "      <td>0.56</td>\n",
       "      <td>0.00</td>\n",
       "      <td>68</td>\n",
       "      <td>7.4</td>\n",
       "      <td>None</td>\n",
       "      <td>0.56</td>\n",
       "    </tr>\n",
       "    <tr>\n",
       "      <th>16707</th>\n",
       "      <td>Aiyoku no Eustia</td>\n",
       "      <td>PSV</td>\n",
       "      <td>2014</td>\n",
       "      <td>Misc</td>\n",
       "      <td>0.00</td>\n",
       "      <td>0.00</td>\n",
       "      <td>0.01</td>\n",
       "      <td>0.00</td>\n",
       "      <td>69</td>\n",
       "      <td>7.1</td>\n",
       "      <td>None</td>\n",
       "      <td>0.01</td>\n",
       "    </tr>\n",
       "    <tr>\n",
       "      <th>9949</th>\n",
       "      <td>Reality Fighters</td>\n",
       "      <td>PSV</td>\n",
       "      <td>2012</td>\n",
       "      <td>Fighting</td>\n",
       "      <td>0.05</td>\n",
       "      <td>0.05</td>\n",
       "      <td>0.00</td>\n",
       "      <td>0.02</td>\n",
       "      <td>54</td>\n",
       "      <td>3.8</td>\n",
       "      <td>T</td>\n",
       "      <td>0.12</td>\n",
       "    </tr>\n",
       "  </tbody>\n",
       "</table>\n",
       "</div>"
      ],
      "text/plain": [
       "                                          name platform  year_of_release  \\\n",
       "15483               RollerCoaster Tycoon World       PC             2016   \n",
       "15911      Psychedelica of the Black Butterfly      PSV             2015   \n",
       "11641               Major League Baseball 2K12       DS             2012   \n",
       "14025                    Super Hero Generation      PSV             2014   \n",
       "6955                               NBA Live 15      PS4             2014   \n",
       "16447                          The Train Giant       PC             2012   \n",
       "15086  Cross Ange: Tenshi to Ryuu no Rondo tr.      PSV             2015   \n",
       "3593                          Yokai Sangokushi      3DS             2016   \n",
       "16707                         Aiyoku no Eustia      PSV             2014   \n",
       "9949                          Reality Fighters      PSV             2012   \n",
       "\n",
       "              genre  na_sales  eu_sales  jp_sales  other_sales  critic_score  \\\n",
       "15483    Simulation      0.00      0.02      0.00         0.00            43   \n",
       "15911        Action      0.00      0.00      0.02         0.00            68   \n",
       "11641        Sports      0.07      0.00      0.00         0.01            75   \n",
       "14025  Role-Playing      0.00      0.00      0.04         0.00            74   \n",
       "6955         Sports      0.16      0.04      0.00         0.04            59   \n",
       "16447      Strategy      0.00      0.01      0.00         0.00            73   \n",
       "15086        Action      0.00      0.00      0.02         0.00            68   \n",
       "3593         Action      0.00      0.00      0.56         0.00            68   \n",
       "16707          Misc      0.00      0.00      0.01         0.00            69   \n",
       "9949       Fighting      0.05      0.05      0.00         0.02            54   \n",
       "\n",
       "       user_score rating  total_sales  \n",
       "15483         2.4      E         0.02  \n",
       "15911         7.4   None         0.02  \n",
       "11641         7.4      E         0.08  \n",
       "14025         7.8   None         0.04  \n",
       "6955          5.6      E         0.24  \n",
       "16447         7.8   None         0.01  \n",
       "15086         7.4   None         0.02  \n",
       "3593          7.4   None         0.56  \n",
       "16707         7.1   None         0.01  \n",
       "9949          3.8      T         0.12  "
      ]
     },
     "metadata": {},
     "output_type": "display_data"
    }
   ],
   "source": [
    "# Cut out all rows containing years less than 2012\n",
    "df = df_raw[df_raw['year_of_release'] >= 2012]\n",
    "display(df.sample(10))"
   ]
  },
  {
   "cell_type": "markdown",
   "metadata": {},
   "source": [
    "We can take a quick look at these six platforms graphically in much the same way we looked at the top five platforms of all time:"
   ]
  },
  {
   "cell_type": "code",
   "execution_count": 12,
   "metadata": {
    "scrolled": true
   },
   "outputs": [
    {
     "data": {
      "image/png": "[encoded data removed]",
      "text/plain": [
       "<Figure size 432x288 with 1 Axes>"
      ]
     },
     "metadata": {
      "needs_background": "light"
     },
     "output_type": "display_data"
    }
   ],
   "source": [
    "# Graph total sales over the years with legend\n",
    "fig, ax = plt.subplots()\n",
    "ax.clear()\n",
    "for platform in top_2016_df['platform']:\n",
    "    ax.plot(df.query('platform == @platform').groupby('year_of_release')['total_sales'].sum())\n",
    "\n",
    "plt.legend(top_2016_df['platform'])\n",
    "plt.ylabel('Gross Sales (Millions of USD)')\n",
    "plt.xlabel('Year')\n",
    "plt.xticks(rotation=45)\n",
    "plt.title('Sales History of the Top Six Active Platforms')\n",
    "plt.show()"
   ]
  },
  {
   "cell_type": "markdown",
   "metadata": {},
   "source": [
    "We should recall the timeline of a popular platform: the data supported 6 to 8 years of sales performance from a popular platform. Of the above platforms, the PS4, XOne, and WiiU are the only platforms matching the criteria of not yet having reached the 6 to 8 year window. Relative to the other platforms mentioned, though, the WiiU does not have a large international market share.\n",
    "\n",
    "We do of course see a downward trend for 2016 for every platform. This matters less for newer platforms. After all, the DS, X360, and PS2 all had drops in sales before their peak years (see graph from Section 3.1), so even the top five most-popular platforms are not immune to early lagging sales. We should, however, be concerned about the PSV and 3DS.\n",
    "\n",
    "As always, the PC is nebulous, as it is a platform that remains accessible to most households looking to buy video games and will not disappear as a platform as it continues to evolve new OSs under the same \"PC\" umbrella. It has sales data dating back to 1985, and will continue to have moderate sales data for the foreseeable future.\n",
    "\n",
    "In conclusion from the above considerations, if defining a profitable platform as \"a platform which is not projected to drop below 5% of its peak annual sales in the next two years,\" then the PS4, XOne, WiiU, and PC platforms are all profitable to market."
   ]
  },
  {
   "cell_type": "markdown",
   "metadata": {},
   "source": [
    "## Games Sales\n",
    "\n",
    "### Individual Game Sales Distributions by Platform\n",
    "Now that we have isolated the relevant years of analysis for modern platforms active in 2016, we can look at the latest sales, rating, and genre data for each game. We will start with looking at game sales broadly, by platform."
   ]
  },
  {
   "cell_type": "code",
   "execution_count": 13,
   "metadata": {},
   "outputs": [
    {
     "data": {
      "image/png": "[encoded data removed]",
      "text/plain": [
       "<Figure size 1152x576 with 2 Axes>"
      ]
     },
     "metadata": {
      "needs_background": "light"
     },
     "output_type": "display_data"
    }
   ],
   "source": [
    "# Create boxplots for each platform\n",
    "fig, axs = plt.subplots(1, 2, figsize=(16,8))\n",
    "axs[0].clear()\n",
    "axs[0].boxplot([df.query('platform == @k')['total_sales'] for k in top_2016_df['platform']],\n",
    "           labels=top_2016_df['platform'],\n",
    "           showfliers=False\n",
    "          )\n",
    "axs[0].set_ylim(0, 2)\n",
    "axs[0].set_ylabel('Sales (Millions of USD)')\n",
    "axs[0].set_title('Video Game Sales for Active Platforms (Agg. 2012-2016)')\n",
    "axs[1].clear()\n",
    "axs[1].boxplot([df.query('platform == @k')['total_sales'] for k in top_2016_df['platform']],\n",
    "           labels=top_2016_df['platform'],\n",
    "          )\n",
    "axs[1].set_ylim(0, 15)\n",
    "axs[1].set_ylabel('Sales (Millions of USD)')\n",
    "axs[1].set_title('Video Game Sales (Add Fliers)')\n",
    "plt.show()"
   ]
  },
  {
   "cell_type": "markdown",
   "metadata": {},
   "source": [
    "Before we jump into analyzing these graphs, recall our life cycle performance metrics for these platforms:"
   ]
  },
  {
   "cell_type": "code",
   "execution_count": 14,
   "metadata": {},
   "outputs": [
    {
     "data": {
      "text/html": [
       "<div>\n",
       "<style scoped>\n",
       "    .dataframe tbody tr th:only-of-type {\n",
       "        vertical-align: middle;\n",
       "    }\n",
       "\n",
       "    .dataframe tbody tr th {\n",
       "        vertical-align: top;\n",
       "    }\n",
       "\n",
       "    .dataframe thead th {\n",
       "        text-align: right;\n",
       "    }\n",
       "</style>\n",
       "<table border=\"1\" class=\"dataframe\">\n",
       "  <thead>\n",
       "    <tr style=\"text-align: right;\">\n",
       "      <th></th>\n",
       "      <th>platform</th>\n",
       "      <th>intro_year</th>\n",
       "      <th>first_perc_year</th>\n",
       "      <th>peak_year</th>\n",
       "      <th>last_perc_year</th>\n",
       "      <th>unique_titles</th>\n",
       "      <th>total_sales</th>\n",
       "    </tr>\n",
       "  </thead>\n",
       "  <tbody>\n",
       "    <tr>\n",
       "      <th>0</th>\n",
       "      <td>PS4</td>\n",
       "      <td>2013</td>\n",
       "      <td>2014</td>\n",
       "      <td>2015</td>\n",
       "      <td>2016</td>\n",
       "      <td>392</td>\n",
       "      <td>314.14</td>\n",
       "    </tr>\n",
       "    <tr>\n",
       "      <th>1</th>\n",
       "      <td>XOne</td>\n",
       "      <td>2013</td>\n",
       "      <td>2014</td>\n",
       "      <td>2015</td>\n",
       "      <td>2015</td>\n",
       "      <td>247</td>\n",
       "      <td>159.32</td>\n",
       "    </tr>\n",
       "    <tr>\n",
       "      <th>2</th>\n",
       "      <td>3DS</td>\n",
       "      <td>2011</td>\n",
       "      <td>2011</td>\n",
       "      <td>2011</td>\n",
       "      <td>2014</td>\n",
       "      <td>520</td>\n",
       "      <td>259.00</td>\n",
       "    </tr>\n",
       "    <tr>\n",
       "      <th>3</th>\n",
       "      <td>PC</td>\n",
       "      <td>2009</td>\n",
       "      <td>2010</td>\n",
       "      <td>2011</td>\n",
       "      <td>2012</td>\n",
       "      <td>974</td>\n",
       "      <td>259.52</td>\n",
       "    </tr>\n",
       "    <tr>\n",
       "      <th>4</th>\n",
       "      <td>WiiU</td>\n",
       "      <td>2012</td>\n",
       "      <td>2012</td>\n",
       "      <td>2014</td>\n",
       "      <td>2015</td>\n",
       "      <td>147</td>\n",
       "      <td>82.19</td>\n",
       "    </tr>\n",
       "    <tr>\n",
       "      <th>5</th>\n",
       "      <td>PSV</td>\n",
       "      <td>2011</td>\n",
       "      <td>2012</td>\n",
       "      <td>2012</td>\n",
       "      <td>2014</td>\n",
       "      <td>430</td>\n",
       "      <td>54.07</td>\n",
       "    </tr>\n",
       "  </tbody>\n",
       "</table>\n",
       "</div>"
      ],
      "text/plain": [
       "  platform  intro_year  first_perc_year  peak_year  last_perc_year  \\\n",
       "0      PS4        2013             2014       2015            2016   \n",
       "1     XOne        2013             2014       2015            2015   \n",
       "2      3DS        2011             2011       2011            2014   \n",
       "3       PC        2009             2010       2011            2012   \n",
       "4     WiiU        2012             2012       2014            2015   \n",
       "5      PSV        2011             2012       2012            2014   \n",
       "\n",
       "   unique_titles  total_sales  \n",
       "0            392       314.14  \n",
       "1            247       159.32  \n",
       "2            520       259.00  \n",
       "3            974       259.52  \n",
       "4            147        82.19  \n",
       "5            430        54.07  "
      ]
     },
     "metadata": {},
     "output_type": "display_data"
    }
   ],
   "source": [
    "# Refresher on the platform performance data in question \n",
    "display(top_2016_df)"
   ]
  },
  {
   "cell_type": "markdown",
   "metadata": {},
   "source": [
    "The average game released on any platform expects to get between 100,000USD or 250,000USD in sales. There are significant differences in the expected sales of a game by platform, but often this must be taken in conjunction with the size of the pool of games being sold to that market share. \n",
    "\n",
    "Looking at the first graph, for example, the average WiiU title performs very well. However, it is fighting for last place on our list for market share. This is primarily due to the low number of unique titles released relative to the rest of the platforms; even though the WiiU market share was about 1/4 the size of that of the PS4, there were also only 1/3 the number of titles. Therefore, each WiiU title performed well given that it had less internal competition in its own market share.\n",
    "\n",
    "To take an opposite example, because indie games release on PC more than on any other console, there are a sky-high number of unique PC game titles. This drives down the mean PC sales value, and each PC title has to compete with a sea of titles in that market share. However, the mainstream PC games perform nearly as well as the PS4 and XOne titles. After all, the highest-grossing PC game in this dataset brought in more than the highest-grossing XBox game. Similarly, despite the average 3DS game grossing a little better than half what the average PS4 game will, the highest-grossing 3DS game is essentially tied with the highest-grossing PS4 game at nearly 15 million USD.\n",
    "\n",
    "### Reviews and Sales\n",
    "\n",
    "Sales may often depend on the perceived or actual quality of a game. We should look at the correlation between user/professional reviews and sales. To zoom in somewhat at the data, we'll look at one platform in particular -- PC."
   ]
  },
  {
   "cell_type": "code",
   "execution_count": 15,
   "metadata": {},
   "outputs": [
    {
     "data": {
      "image/png": "[encoded data removed]",
      "text/plain": [
       "<Figure size 1152x576 with 2 Axes>"
      ]
     },
     "metadata": {
      "needs_background": "light"
     },
     "output_type": "display_data"
    }
   ],
   "source": [
    "#For this section, isolate to PC games, and for visibility's sake, only to games which sold at least $50,000\n",
    "pc_df = df[df['platform'] == 'PC'].query('total_sales >= .05')\n",
    "\n",
    "fig, axs = plt.subplots(1, 2, figsize=(16,8))\n",
    "pc_df.plot(\n",
    "    x='critic_score', \n",
    "    y='total_sales', \n",
    "    kind='scatter', \n",
    "    ax=axs[0],\n",
    "    alpha=0.5\n",
    ")\n",
    "\n",
    "# Log-scale to better see distribution at low end. Add labels\n",
    "axs[0].set_yscale('log')\n",
    "axs[0].set_title('PC Games 2012-2016: Critic Score vs. Total Sales')\n",
    "axs[0].set_xlabel('Critic Score (0-100)')\n",
    "axs[0].set_ylabel('Sales (Millions of USD)')\n",
    "\n",
    "pc_df.plot(\n",
    "    x='user_score', \n",
    "    y='total_sales', \n",
    "    kind='scatter', \n",
    "    ax=axs[1],\n",
    "    alpha=0.5\n",
    ")\n",
    "# Log-scale to better see distribution at low end. Add labels\n",
    "axs[1].set_yscale('log')\n",
    "axs[1].set_title('PC Games 2012-2016: User Score vs. Total Sales')\n",
    "axs[1].set_xlabel('User Score (0-10)')\n",
    "axs[1].set_ylabel('Sales (Millions of USD)')\n",
    "plt.show()"
   ]
  },
  {
   "cell_type": "markdown",
   "metadata": {},
   "source": [
    "Mere appearance of these graphs will tell you there seems to be a moderate relationship between critic score and sales (but even then, there are plenty of titles selling well over 500,000 USD that have critic scores less than 70). Still, compared to the user score graph, critic scores seem an especially strong indicator. The user score graph is all over the place, as users are likely to upset the relationship of rating to sales because they are both (1) more apt to rebuke well-selling games and to champion under-selling games and (2) be more inelastic with their genre and franchise preferences regardless of individual game quality. \n",
    "\n",
    "Let's consider briefly the relationship in this data between user score and critic score:"
   ]
  },
  {
   "cell_type": "code",
   "execution_count": 16,
   "metadata": {},
   "outputs": [
    {
     "data": {
      "image/png": "[encoded data removed]",
      "text/plain": [
       "<Figure size 720x720 with 1 Axes>"
      ]
     },
     "metadata": {
      "needs_background": "light"
     },
     "output_type": "display_data"
    }
   ],
   "source": [
    "# Plot User Score v. Critic Scores\n",
    "fig, ax = plt.subplots(figsize=(10,10))\n",
    "pc_df.plot(\n",
    "    x='user_score', \n",
    "    y='critic_score', \n",
    "    kind='scatter', \n",
    "    ax=ax,\n",
    "    alpha=0.5\n",
    ")\n",
    "ax.plot([3, 10], [30, 100], 'k--', alpha=0.3)\n",
    "\n",
    "# Add labels\n",
    "ax.set_title('PC Games 2012-2016: User Score vs. Critic Scores')\n",
    "ax.set_xlabel('User Score (0-10)')\n",
    "ax.set_ylabel('Critic Score (0-100)')\n",
    "plt.show()"
   ]
  },
  {
   "cell_type": "code",
   "execution_count": 17,
   "metadata": {},
   "outputs": [
    {
     "name": "stdout",
     "output_type": "stream",
     "text": [
      "User score and total sales correlation: -0.15101615671108942\n",
      "Critic score and total sales correlation: 0.20235803018604168\n",
      "\n",
      "User score and critic score correlation: 0.3516945066526508\n"
     ]
    }
   ],
   "source": [
    "# Correlate critic and user scores to sales\n",
    "print('User score and total sales correlation:', pc_df['user_score'].corr(pc_df['total_sales']))\n",
    "print('Critic score and total sales correlation:', pc_df['critic_score'].corr(pc_df['total_sales']))\n",
    "print('')\n",
    "\n",
    "# Correlate user score to critic score\n",
    "print('User score and critic score correlation:', pc_df['user_score'].corr(pc_df['critic_score']))"
   ]
  },
  {
   "cell_type": "markdown",
   "metadata": {},
   "source": [
    "It turns out that critics' tastes predict PC games sales far better than users' tastes. However, even then, they are only moderately correlated to the success of a game. The fact that user rating has functionally no statistical bearing on sales demonstrates their inelasticity and, likely, the power of advertising, as sales are more dependent on perceived quality of a game prior to buying.\n",
    "\n",
    "The primary marketing conclusion is that critic reviews and scores should be included in advertising to boost the perceived quality of a game over user reviews and scores.\n",
    "\n",
    "### A Brief Case Study of the Same Titles Across Platforms\n",
    "\n",
    "Before moving on to genre, it is worth considering whether a title released on multiple platforms will do well. We will look only at games released on three or more total platforms."
   ]
  },
  {
   "cell_type": "code",
   "execution_count": 18,
   "metadata": {
    "scrolled": true
   },
   "outputs": [
    {
     "data": {
      "text/html": [
       "<div>\n",
       "<style scoped>\n",
       "    .dataframe tbody tr th:only-of-type {\n",
       "        vertical-align: middle;\n",
       "    }\n",
       "\n",
       "    .dataframe tbody tr th {\n",
       "        vertical-align: top;\n",
       "    }\n",
       "\n",
       "    .dataframe thead th {\n",
       "        text-align: right;\n",
       "    }\n",
       "</style>\n",
       "<table border=\"1\" class=\"dataframe\">\n",
       "  <thead>\n",
       "    <tr style=\"text-align: right;\">\n",
       "      <th></th>\n",
       "      <th>title</th>\n",
       "      <th>sales_ps4</th>\n",
       "      <th>sales_xone</th>\n",
       "      <th>sales_3ds</th>\n",
       "      <th>sales_pc</th>\n",
       "      <th>sales_wiiu</th>\n",
       "      <th>sales_psv</th>\n",
       "      <th>total_sales</th>\n",
       "    </tr>\n",
       "  </thead>\n",
       "  <tbody>\n",
       "    <tr>\n",
       "      <th>0</th>\n",
       "      <td>Adventure Time: Finn &amp; Jake Investigations</td>\n",
       "      <td>0.10</td>\n",
       "      <td>0.05</td>\n",
       "      <td>0.09</td>\n",
       "      <td>NaN</td>\n",
       "      <td>0.05</td>\n",
       "      <td>NaN</td>\n",
       "      <td>0.29</td>\n",
       "    </tr>\n",
       "    <tr>\n",
       "      <th>1</th>\n",
       "      <td>Alien: Isolation</td>\n",
       "      <td>1.12</td>\n",
       "      <td>0.50</td>\n",
       "      <td>NaN</td>\n",
       "      <td>0.15</td>\n",
       "      <td>NaN</td>\n",
       "      <td>NaN</td>\n",
       "      <td>1.77</td>\n",
       "    </tr>\n",
       "    <tr>\n",
       "      <th>2</th>\n",
       "      <td>Angry Birds Star Wars</td>\n",
       "      <td>0.22</td>\n",
       "      <td>0.17</td>\n",
       "      <td>0.33</td>\n",
       "      <td>NaN</td>\n",
       "      <td>0.10</td>\n",
       "      <td>0.08</td>\n",
       "      <td>0.82</td>\n",
       "    </tr>\n",
       "    <tr>\n",
       "      <th>3</th>\n",
       "      <td>Assassin's Creed Chronicles</td>\n",
       "      <td>0.08</td>\n",
       "      <td>0.01</td>\n",
       "      <td>NaN</td>\n",
       "      <td>NaN</td>\n",
       "      <td>NaN</td>\n",
       "      <td>0.07</td>\n",
       "      <td>0.09</td>\n",
       "    </tr>\n",
       "    <tr>\n",
       "      <th>4</th>\n",
       "      <td>Assassin's Creed IV: Black Flag</td>\n",
       "      <td>2.86</td>\n",
       "      <td>2.24</td>\n",
       "      <td>NaN</td>\n",
       "      <td>0.65</td>\n",
       "      <td>0.29</td>\n",
       "      <td>NaN</td>\n",
       "      <td>6.04</td>\n",
       "    </tr>\n",
       "    <tr>\n",
       "      <th>...</th>\n",
       "      <td>...</td>\n",
       "      <td>...</td>\n",
       "      <td>...</td>\n",
       "      <td>...</td>\n",
       "      <td>...</td>\n",
       "      <td>...</td>\n",
       "      <td>...</td>\n",
       "      <td>...</td>\n",
       "    </tr>\n",
       "    <tr>\n",
       "      <th>144</th>\n",
       "      <td>Watch Dogs</td>\n",
       "      <td>4.05</td>\n",
       "      <td>1.57</td>\n",
       "      <td>NaN</td>\n",
       "      <td>0.44</td>\n",
       "      <td>0.13</td>\n",
       "      <td>NaN</td>\n",
       "      <td>6.19</td>\n",
       "    </tr>\n",
       "    <tr>\n",
       "      <th>145</th>\n",
       "      <td>Wolfenstein: The New Order</td>\n",
       "      <td>1.54</td>\n",
       "      <td>0.68</td>\n",
       "      <td>NaN</td>\n",
       "      <td>0.45</td>\n",
       "      <td>NaN</td>\n",
       "      <td>NaN</td>\n",
       "      <td>2.67</td>\n",
       "    </tr>\n",
       "    <tr>\n",
       "      <th>146</th>\n",
       "      <td>Wolfenstein: The Old Blood</td>\n",
       "      <td>0.43</td>\n",
       "      <td>0.15</td>\n",
       "      <td>NaN</td>\n",
       "      <td>0.08</td>\n",
       "      <td>NaN</td>\n",
       "      <td>NaN</td>\n",
       "      <td>0.66</td>\n",
       "    </tr>\n",
       "    <tr>\n",
       "      <th>147</th>\n",
       "      <td>XCOM 2</td>\n",
       "      <td>0.14</td>\n",
       "      <td>0.04</td>\n",
       "      <td>NaN</td>\n",
       "      <td>0.23</td>\n",
       "      <td>NaN</td>\n",
       "      <td>NaN</td>\n",
       "      <td>0.41</td>\n",
       "    </tr>\n",
       "    <tr>\n",
       "      <th>148</th>\n",
       "      <td>ZombiU</td>\n",
       "      <td>0.06</td>\n",
       "      <td>0.01</td>\n",
       "      <td>NaN</td>\n",
       "      <td>NaN</td>\n",
       "      <td>1.01</td>\n",
       "      <td>NaN</td>\n",
       "      <td>1.08</td>\n",
       "    </tr>\n",
       "  </tbody>\n",
       "</table>\n",
       "<p>149 rows × 8 columns</p>\n",
       "</div>"
      ],
      "text/plain": [
       "                                          title  sales_ps4  sales_xone  \\\n",
       "0    Adventure Time: Finn & Jake Investigations       0.10        0.05   \n",
       "1                              Alien: Isolation       1.12        0.50   \n",
       "2                         Angry Birds Star Wars       0.22        0.17   \n",
       "3                   Assassin's Creed Chronicles       0.08        0.01   \n",
       "4               Assassin's Creed IV: Black Flag       2.86        2.24   \n",
       "..                                          ...        ...         ...   \n",
       "144                                  Watch Dogs       4.05        1.57   \n",
       "145                  Wolfenstein: The New Order       1.54        0.68   \n",
       "146                  Wolfenstein: The Old Blood       0.43        0.15   \n",
       "147                                      XCOM 2       0.14        0.04   \n",
       "148                                      ZombiU       0.06        0.01   \n",
       "\n",
       "     sales_3ds  sales_pc  sales_wiiu  sales_psv  total_sales  \n",
       "0         0.09       NaN        0.05        NaN         0.29  \n",
       "1          NaN      0.15         NaN        NaN         1.77  \n",
       "2         0.33       NaN        0.10       0.08         0.82  \n",
       "3          NaN       NaN         NaN       0.07         0.09  \n",
       "4          NaN      0.65        0.29        NaN         6.04  \n",
       "..         ...       ...         ...        ...          ...  \n",
       "144        NaN      0.44        0.13        NaN         6.19  \n",
       "145        NaN      0.45         NaN        NaN         2.67  \n",
       "146        NaN      0.08         NaN        NaN         0.66  \n",
       "147        NaN      0.23         NaN        NaN         0.41  \n",
       "148        NaN       NaN        1.01        NaN         1.08  \n",
       "\n",
       "[149 rows x 8 columns]"
      ]
     },
     "metadata": {},
     "output_type": "display_data"
    }
   ],
   "source": [
    "'''\n",
    "New dataframe for titles released on multiple platforms:\n",
    "    'title': The published name of the game in question    \n",
    "    'sales_ps4': The sales for the PS4 release of the game; NaN if no release for this platform\n",
    "    'sales_xone': The sales for the XOne release of the game; NaN if no release for this platform\n",
    "    'sales_3ds': The sales for the 3DS release of the game; NaN if no release for this platform\n",
    "    'sales_pc': The sales for the PC release of the game; NaN if no release for this platform\n",
    "    'sales_wiiu': The sales for the WiiU release of the game; NaN if no release for this platform\n",
    "    'sales_psv': The sales for the PSV release of the game; NaN if no release for this platform\n",
    "    'total_sales': The total sales across all platforms for this title\n",
    "'''\n",
    "\n",
    "# First, get all games that had releases on 3 or more platforms\n",
    "six_platforms = top_2016_df['platform']\n",
    "multiplatform_list = df.query('platform in @six_platforms').groupby('name', group_keys=False).apply(lambda x: x.iloc[0]['name'] if x['platform'].count() >= 3 else np.nan)\n",
    "multiplatform_list = list(multiplatform_list[~multiplatform_list.isna()].reset_index(drop=True))\n",
    "\n",
    "# Initialize column names and data array to concatenate rows before forming DataFrame for efficiency\n",
    "cols = ['title', 'sales_ps4', 'sales_xone', 'sales_3ds', 'sales_pc', 'sales_wiiu', 'sales_psv']\n",
    "data = []\n",
    "\n",
    "# Accumulating function\n",
    "def multiplatform_row(dframe, title):\n",
    "    # Takes as input the dataframe to pull from and the title of the game\n",
    "    #\n",
    "    # Outputs a row list of the data\n",
    "    game_df = dframe.query('name == @title')\n",
    "    return [\n",
    "        title, # title\n",
    "        game_df.query('platform == \"PS4\"')['total_sales'].values[0] if game_df.query('platform == \"PS4\"')['total_sales'].count() > 0 else np.nan, # sales_ps4\n",
    "        game_df.query('platform == \"XOne\"')['total_sales'].values[0] if game_df.query('platform == \"XOne\"')['total_sales'].count() > 0 else np.nan, # sales_xone\n",
    "        game_df.query('platform == \"3DS\"')['total_sales'].values[0] if game_df.query('platform == \"3DS\"')['total_sales'].count() > 0 else np.nan, # sales_3ds\n",
    "        game_df.query('platform == \"PC\"')['total_sales'].values[0] if game_df.query('platform == \"PC\"')['total_sales'].count() > 0 else np.nan, # sales_pc\n",
    "        game_df.query('platform == \"WiiU\"')['total_sales'].values[0] if game_df.query('platform == \"WiiU\"')['total_sales'].count() > 0 else np.nan, # sales_wiiu\n",
    "        game_df.query('platform == \"PSV\"')['total_sales'].values[0] if game_df.query('platform == \"PSV\"')['total_sales'].count() > 0 else np.nan # sales_psv\n",
    "    ]\n",
    "\n",
    "# Form the dataframe\n",
    "for title in multiplatform_list:\n",
    "    data.append(multiplatform_row(df, title))\n",
    "multiplatform_df = pd.DataFrame(data, columns=cols)\n",
    "multiplatform_df['total_sales'] = multiplatform_df.loc[:, cols[1:-1]].sum(axis=1, min_count=1)\n",
    "display(multiplatform_df)"
   ]
  },
  {
   "cell_type": "code",
   "execution_count": 19,
   "metadata": {},
   "outputs": [
    {
     "name": "stdout",
     "output_type": "stream",
     "text": [
      "Correlation of each sales type by each other sales type, including total sales:\n"
     ]
    },
    {
     "data": {
      "text/html": [
       "<div>\n",
       "<style scoped>\n",
       "    .dataframe tbody tr th:only-of-type {\n",
       "        vertical-align: middle;\n",
       "    }\n",
       "\n",
       "    .dataframe tbody tr th {\n",
       "        vertical-align: top;\n",
       "    }\n",
       "\n",
       "    .dataframe thead th {\n",
       "        text-align: right;\n",
       "    }\n",
       "</style>\n",
       "<table border=\"1\" class=\"dataframe\">\n",
       "  <thead>\n",
       "    <tr style=\"text-align: right;\">\n",
       "      <th></th>\n",
       "      <th>sales_ps4</th>\n",
       "      <th>sales_xone</th>\n",
       "      <th>sales_3ds</th>\n",
       "      <th>sales_pc</th>\n",
       "      <th>sales_wiiu</th>\n",
       "      <th>sales_psv</th>\n",
       "      <th>total_sales</th>\n",
       "    </tr>\n",
       "  </thead>\n",
       "  <tbody>\n",
       "    <tr>\n",
       "      <th>sales_ps4</th>\n",
       "      <td>1.000000</td>\n",
       "      <td>0.954308</td>\n",
       "      <td>0.309430</td>\n",
       "      <td>0.234100</td>\n",
       "      <td>0.109476</td>\n",
       "      <td>0.739149</td>\n",
       "      <td>0.982226</td>\n",
       "    </tr>\n",
       "    <tr>\n",
       "      <th>sales_xone</th>\n",
       "      <td>0.954308</td>\n",
       "      <td>1.000000</td>\n",
       "      <td>0.492727</td>\n",
       "      <td>0.239882</td>\n",
       "      <td>0.163681</td>\n",
       "      <td>0.902941</td>\n",
       "      <td>0.971552</td>\n",
       "    </tr>\n",
       "    <tr>\n",
       "      <th>sales_3ds</th>\n",
       "      <td>0.309430</td>\n",
       "      <td>0.492727</td>\n",
       "      <td>1.000000</td>\n",
       "      <td>-0.123562</td>\n",
       "      <td>0.376802</td>\n",
       "      <td>0.401131</td>\n",
       "      <td>0.364028</td>\n",
       "    </tr>\n",
       "    <tr>\n",
       "      <th>sales_pc</th>\n",
       "      <td>0.234100</td>\n",
       "      <td>0.239882</td>\n",
       "      <td>-0.123562</td>\n",
       "      <td>1.000000</td>\n",
       "      <td>-0.087532</td>\n",
       "      <td>0.277086</td>\n",
       "      <td>0.371555</td>\n",
       "    </tr>\n",
       "    <tr>\n",
       "      <th>sales_wiiu</th>\n",
       "      <td>0.109476</td>\n",
       "      <td>0.163681</td>\n",
       "      <td>0.376802</td>\n",
       "      <td>-0.087532</td>\n",
       "      <td>1.000000</td>\n",
       "      <td>0.343072</td>\n",
       "      <td>0.304610</td>\n",
       "    </tr>\n",
       "    <tr>\n",
       "      <th>sales_psv</th>\n",
       "      <td>0.739149</td>\n",
       "      <td>0.902941</td>\n",
       "      <td>0.401131</td>\n",
       "      <td>0.277086</td>\n",
       "      <td>0.343072</td>\n",
       "      <td>1.000000</td>\n",
       "      <td>0.652524</td>\n",
       "    </tr>\n",
       "    <tr>\n",
       "      <th>total_sales</th>\n",
       "      <td>0.982226</td>\n",
       "      <td>0.971552</td>\n",
       "      <td>0.364028</td>\n",
       "      <td>0.371555</td>\n",
       "      <td>0.304610</td>\n",
       "      <td>0.652524</td>\n",
       "      <td>1.000000</td>\n",
       "    </tr>\n",
       "  </tbody>\n",
       "</table>\n",
       "</div>"
      ],
      "text/plain": [
       "             sales_ps4  sales_xone  sales_3ds  sales_pc  sales_wiiu  \\\n",
       "sales_ps4     1.000000    0.954308   0.309430  0.234100    0.109476   \n",
       "sales_xone    0.954308    1.000000   0.492727  0.239882    0.163681   \n",
       "sales_3ds     0.309430    0.492727   1.000000 -0.123562    0.376802   \n",
       "sales_pc      0.234100    0.239882  -0.123562  1.000000   -0.087532   \n",
       "sales_wiiu    0.109476    0.163681   0.376802 -0.087532    1.000000   \n",
       "sales_psv     0.739149    0.902941   0.401131  0.277086    0.343072   \n",
       "total_sales   0.982226    0.971552   0.364028  0.371555    0.304610   \n",
       "\n",
       "             sales_psv  total_sales  \n",
       "sales_ps4     0.739149     0.982226  \n",
       "sales_xone    0.902941     0.971552  \n",
       "sales_3ds     0.401131     0.364028  \n",
       "sales_pc      0.277086     0.371555  \n",
       "sales_wiiu    0.343072     0.304610  \n",
       "sales_psv     1.000000     0.652524  \n",
       "total_sales   0.652524     1.000000  "
      ]
     },
     "metadata": {},
     "output_type": "display_data"
    },
    {
     "name": "stdout",
     "output_type": "stream",
     "text": [
      "\n",
      "Average share of total sales for each column:\n"
     ]
    },
    {
     "data": {
      "text/plain": [
       "sales_ps4     0.573124\n",
       "sales_xone    0.259295\n",
       "sales_3ds     0.348660\n",
       "sales_pc      0.115752\n",
       "sales_wiiu    0.288816\n",
       "sales_psv     0.348958\n",
       "dtype: float64"
      ]
     },
     "metadata": {},
     "output_type": "display_data"
    }
   ],
   "source": [
    "# Display correlation matrix to see how game sales for one platform correlate to sales on other platforms\n",
    "print('Correlation of each sales type by each other sales type, including total sales:')\n",
    "display(multiplatform_df.corr())\n",
    "print('')\n",
    "\n",
    "# We are also interested in how these platform sales individually tend to contribute to total sales. Divide by total sales\n",
    "av_share_platform = multiplatform_df.loc[:, [\n",
    "    'sales_ps4', 'sales_xone', 'sales_3ds', 'sales_pc', 'sales_wiiu', 'sales_psv'\n",
    "    ]].div(multiplatform_df['total_sales'], axis=0).mean()\n",
    "\n",
    "print('Average share of total sales for each column:')\n",
    "display(av_share_platform)"
   ]
  },
  {
   "cell_type": "markdown",
   "metadata": {},
   "source": [
    "The most stark conclusion of the above correlation data is the linear relationship between three columns: PS4 sales, XOne sales, and total sales. When a game is released on multiple consoles, PS4 and XOne sales will share a similar relative proportion of the overall sales pie. Also, when a game is released on PS4, it is almost always released on XOne, and thus their sales are always correlated. These two together always dominate total sales. When the PS4 is included in a game's release, PS4 sales usually contribute about half of the sales for that game, and the XOne contributes about a quarter of the sales.\n",
    "\n",
    "PC sales are the least correlated to the other platforms, harking back to the above conclusions that PC games involve a wide variety of game types and indie developers. When the average PC game is released on multiple platforms, it is hard to pinpoint the likely consoles it was also released on.\n",
    "\n",
    "Finally, even though the overall market shares for WiiU and PSV are low compared to other platforms, they perform very well on multi-platform titles, capturing on average a third of sales each. The PSV is highly correlated to PS4 and XOne releases, and yet on average outperforms XOne on multi-platform titles, suggesting that if a game released on PS4 or XOne is simple enough to be rendered on a portable device like the PSV, people will find value in taking their game on the go with them, and thus often prefer to buy it on a PSV.\n",
    "\n",
    "### Genre Sales Distribution"
   ]
  },
  {
   "cell_type": "code",
   "execution_count": 20,
   "metadata": {},
   "outputs": [
    {
     "name": "stdout",
     "output_type": "stream",
     "text": [
      "Total Video Game Market Share (Millions of USD) by Genre 2012-2016:\n"
     ]
    },
    {
     "data": {
      "text/plain": [
       "genre\n",
       "Action          441.52\n",
       "Shooter         304.80\n",
       "Role-Playing    193.09\n",
       "Sports          181.09\n",
       "Misc             85.04\n",
       "Platform         61.00\n",
       "Racing           53.59\n",
       "Fighting         44.49\n",
       "Simulation       35.61\n",
       "Adventure        29.52\n",
       "Strategy         13.34\n",
       "Puzzle            4.89\n",
       "Name: total_sales, dtype: float64"
      ]
     },
     "metadata": {},
     "output_type": "display_data"
    },
    {
     "data": {
      "image/png": "[encoded data removed]",
      "text/plain": [
       "<Figure size 1152x576 with 1 Axes>"
      ]
     },
     "metadata": {
      "needs_background": "light"
     },
     "output_type": "display_data"
    },
    {
     "data": {
      "image/png": "[encoded data removed]",
      "text/plain": [
       "<Figure size 1152x1152 with 2 Axes>"
      ]
     },
     "metadata": {
      "needs_background": "light"
     },
     "output_type": "display_data"
    }
   ],
   "source": [
    "# Group by genre statistics and then by year\n",
    "print('Total Video Game Market Share (Millions of USD) by Genre 2012-2016:')\n",
    "display(df.groupby('genre')['total_sales'].sum().sort_values(ascending=False))\n",
    "df.groupby(['year_of_release','genre'])['total_sales'].sum().unstack().plot(figsize=(16,8))\n",
    "plt.title('Graph 1: Genre Popularity 2012-2016')\n",
    "plt.ylabel('Market Share (Millions of USD')\n",
    "plt.xlabel('Year of Release')\n",
    "plt.show()\n",
    "\n",
    "# Create boxplots for each genre\n",
    "fig, axs = plt.subplots(2, 1, figsize=(16,16))\n",
    "axs[0].clear()\n",
    "axs[0].boxplot([df.query('genre == @k')['total_sales'] for k in list(df['genre'].unique())],\n",
    "           labels=list(df['genre'].unique()),\n",
    "           showfliers=False\n",
    "          )\n",
    "axs[0].set_ylim(0, 4)\n",
    "axs[0].set_ylabel('Sales (Millions of USD)')\n",
    "axs[0].set_title('Graph 2: Video Game Sales by Genre (Agg. 2012-2016)')\n",
    "axs[1].clear()\n",
    "axs[1].boxplot([100* df.query('genre == @k')['total_sales'].div(df.query('genre == @k')['total_sales'].sum().item()) for k in list(df['genre'].unique())],\n",
    "           labels=list(df['genre'].unique()),\n",
    "           showfliers=False\n",
    "          )\n",
    "axs[1].set_ylim(0, 4.5)\n",
    "axs[1].yaxis.set_major_formatter(pf())\n",
    "axs[1].set_ylabel('Percent of Total Sales')\n",
    "axs[1].set_title('Graph 3: Genre Market Share for Each Title Released')\n",
    "plt.show()"
   ]
  },
  {
   "cell_type": "markdown",
   "metadata": {},
   "source": [
    "The top market shares for 2012-2016 are in Action, Shooter, Role-Playing, Sports, and Misc video games. We can see that the average title released in Action will perform moderately well in sales but still takes the smallest share of genre sales of any genre, averaging about 0.05% of its own genre sales. Inversely, the lowest market share holder, Puzzle games, boasts the highest per-title percentage of genre sales, averaging about 1% of its own genre sales. Much like a platform's performance is relative to the number of titles released on it, so too is a genre's performance relative to the number of titles released. Thus, we must balance our analysis: if a genre's overall market share has been performing well year-over-year (Graph 2 above) and the per-title genre share average is high (Graph 3 above), then it is worth marketing a new title in that genre.\n",
    "\n",
    "This trend is especially clear in the profitability of Shooter games over Action games; while Action games have held a slight edge in overall market share, on a per-unit basis it is more profitable to generate and market a Shooter game. A Shooter game captures well over three times the share of its own genre's market share compared to an Action game's own genre market share, and thus we see the trend in Graph 2 -- a Shooter game is expected to sell on average at least three times as well.\n",
    "\n",
    "Some genres are losing popularity, however, which is the final factor in the puzzle (Graph 1 above). The Misc and Platform genres had 80 million and 40 million USD in yearly sales in 2012 but by 2016 dropped to less than 10 million each, with no sign of improvement. These are not platforms worth advertising moving into 2017. Therefore, taking these out of the running, the most profitable genres to market are Shooter, Action, Fighting, Sports, and Racing.\n",
    "\n",
    "## Region\n",
    "\n",
    "The NA, EU, and JP markets represent unique sales regions, with varying user preferences in platforms and genres. We should look at the top five platforms and genres for each region, as well as consider the effect ESRB ratings have on regional sales.\n",
    "\n",
    "### Top Platforms by Region"
   ]
  },
  {
   "cell_type": "code",
   "execution_count": 21,
   "metadata": {
    "scrolled": false
   },
   "outputs": [
    {
     "data": {
      "image/png": "[encoded data removed]",
      "text/plain": [
       "<Figure size 1152x576 with 1 Axes>"
      ]
     },
     "metadata": {
      "needs_background": "light"
     },
     "output_type": "display_data"
    }
   ],
   "source": [
    "# Split by region and platform\n",
    "df.groupby('platform')[['na_sales', 'eu_sales', 'jp_sales']].sum().plot(\n",
    "    kind='bar', \n",
    "    figsize=(16,8)\n",
    ")\n",
    "plt.legend(['NA', 'EU', 'JP'])\n",
    "plt.title('Platform Performance by Region')\n",
    "plt.ylabel('Market Share (Millions of USD)')\n",
    "plt.xlabel('Platform')\n",
    "plt.xticks(rotation=0)\n",
    "plt.show()"
   ]
  },
  {
   "cell_type": "markdown",
   "metadata": {},
   "source": [
    "The most popular NA and EU platforms from 2012-2016 were the X360, PS4, PS3, XOne, and 3DS. NA and EU consumers prefer devoted, stationary consoles which can play more robust and demanding games, with the only exception being the 3DS, which is handheld. It is worth noting that the large historic market for PC games is dominated by EU.\n",
    "\n",
    "The most popular JP platforms from 2012-2016 were the 3DS, PS3, PSV, PS4, and WiiU. While stationary consoles like PS3 and PS4 still sell in JP, the standount market performances are for mobile, portable consoles, with three out of its five top platforms being smaller devices. It is the regional sales leader for the PSV, PSP, and 3DS markets, which is remarkable given its smaller population. The Japanese market share was less than 25 Million USD for the combined sales of titles for the otherwise-popular PS4, X360, PC, and XOne platforms.\n",
    "\n",
    "### Top Genres by Region"
   ]
  },
  {
   "cell_type": "code",
   "execution_count": 22,
   "metadata": {},
   "outputs": [
    {
     "data": {
      "image/png": "[encoded data removed]",
      "text/plain": [
       "<Figure size 1152x576 with 1 Axes>"
      ]
     },
     "metadata": {
      "needs_background": "light"
     },
     "output_type": "display_data"
    }
   ],
   "source": [
    "# Split by region and genre\n",
    "df.groupby('genre')[['na_sales', 'eu_sales', 'jp_sales']].sum().plot(\n",
    "    kind='bar', \n",
    "    figsize=(16,8)\n",
    ")\n",
    "plt.legend(['NA', 'EU', 'JP'])\n",
    "plt.title('Genre Performance by Region')\n",
    "plt.ylabel('Market Share (Millions of USD)')\n",
    "plt.xlabel('Genre')\n",
    "plt.xticks(rotation=0)\n",
    "plt.show()"
   ]
  },
  {
   "cell_type": "markdown",
   "metadata": {},
   "source": [
    "The most popular NA and EU genres from 2012-2016 were, in order beginning with most popular: Action, Shooter, Sports, Role-Playing, and Misc/Racing (NA/EU respectively). These genres also reflect the overall most-popular genres worldwide during this period. NA was the regional sales leader in every major genre except Racing and Role-Playing, though for nearly all genres, EU sales only mildly or moderately lagged behind. \n",
    "\n",
    "The most popular JP genres from 2012-2016 were Role-Playing, Action, Misc, Fighting, and Simulation. Role-playing and Simulation were the only genres in which the JP market share beat the NA market share. JP is also notable in not caring much for the number two genre worldwide, Shooter, being beat out by EU and NA by almost 10-fold, or the number three genre worldwide, Sports, being beat out by the EU and NA by almost 6-fold.\n",
    "\n",
    "### ESRB Ratings' Effect on Regional Sales"
   ]
  },
  {
   "cell_type": "code",
   "execution_count": 23,
   "metadata": {},
   "outputs": [
    {
     "data": {
      "image/png": "[encoded data removed]",
      "text/plain": [
       "<Figure size 1152x576 with 1 Axes>"
      ]
     },
     "metadata": {
      "needs_background": "light"
     },
     "output_type": "display_data"
    }
   ],
   "source": [
    "# Split by ESRB\n",
    "df.groupby('rating')[['na_sales', 'eu_sales', 'jp_sales']].sum().plot(\n",
    "    kind='bar', \n",
    "    figsize=(16,8)\n",
    ")\n",
    "plt.legend(['NA', 'EU', 'JP'])\n",
    "plt.title('ESRB Rating Performance by Region Aggregate: 2012 to 2016')\n",
    "plt.ylabel('Total Market Share (Millions of USD)')\n",
    "plt.xlabel('ESRB Rating')\n",
    "plt.xticks(rotation=0)\n",
    "plt.show()"
   ]
  },
  {
   "cell_type": "markdown",
   "metadata": {},
   "source": [
    "In NA and EU, titles with an M (Mature) rating performed better than those rated T (Teen) or E (Everyone), while in JP, titles with an M rating performed worse than those rated T or E. Most notably, JP was the regional sales leader for those games which did not receive a rating, under \"None,\" likely indicating the frequency of JP-only releases not being rated by the ESRB. In fact, when looking only at JP sales, sales for titles *without* a rating essentially beat out all other game sales combined.\n",
    "\n",
    "Let us additionally look at the average sales for each rating, rather than the total, which might elucidate whether certain ratings on average perform better than others:"
   ]
  },
  {
   "cell_type": "code",
   "execution_count": 24,
   "metadata": {},
   "outputs": [
    {
     "data": {
      "image/png": "[encoded data removed]",
      "text/plain": [
       "<Figure size 1152x576 with 1 Axes>"
      ]
     },
     "metadata": {
      "needs_background": "light"
     },
     "output_type": "display_data"
    }
   ],
   "source": [
    "# Split by ESRB\n",
    "df.groupby('rating')[['na_sales', 'eu_sales', 'jp_sales']].mean().plot(\n",
    "    kind='bar', \n",
    "    figsize=(16,8)\n",
    ")\n",
    "plt.legend(['NA', 'EU', 'JP'])\n",
    "plt.title('Average Regional Sales per Game Title by Rating')\n",
    "plt.ylabel('Average Game Sales (Millions of USD)')\n",
    "plt.xlabel('ESRB Rating')\n",
    "plt.xticks(rotation=0)\n",
    "plt.show()"
   ]
  },
  {
   "cell_type": "markdown",
   "metadata": {},
   "source": [
    "This graph now tells us that those games rated M perform over twice as well as any other rating, except in JP.\n",
    "\n",
    "## User Rating Hypotheses\n",
    "\n",
    "We would like to tie this analysis off with some statistical conclusions about how users view games of different platforms and genres.\n",
    "\n",
    "These data points have a wide variability with thousands of data points, and as we saw above, user ratings were absent of any correlation to sales performance. Therefore, if we are to draw meaningful conclusions and extract patterns from this apparent chaos, we should set a very significant *alpha* threshold and be thorough in our hypotheses. We will use an *alpha* value of 0.01 for ALL hypotheses.\n",
    "\n",
    "### XBox One vs PC Ratings\n",
    "\n",
    "The first comparison we'll make is between XBox One and PC user ratings. We believe that games released on these two platforms have different user ratings, and so we will set the null hypothesis to \"users rate PC games similarly to XBox One games\" and the alternative hypothesis to \"users rate PC games differently than XBox One games.\" We will assume the variance is different enough to merit setting `equal_var` to False, as these are separate user populations with little overlap."
   ]
  },
  {
   "cell_type": "code",
   "execution_count": 25,
   "metadata": {},
   "outputs": [
    {
     "name": "stdout",
     "output_type": "stream",
     "text": [
      "p-value:  0.2518232001572021\n",
      "We can't reject the null hypothesis.\n"
     ]
    }
   ],
   "source": [
    "alpha = 0.01  # Significance level set to high\n",
    "\n",
    "# Two-sided t-test of two population means. Setting equal_var to False assuming different user populations\n",
    "results = st.ttest_ind(df.query('platform == \"PC\"')['user_score'], df.query('platform == \"XOne\"')['user_score'], equal_var=False)\n",
    "\n",
    "print('p-value: ', results.pvalue)\n",
    "\n",
    "if results.pvalue < alpha:\n",
    "    print(\"We reject the null hypothesis.\")\n",
    "else:\n",
    "    print(\"We can't reject the null hypothesis.\")"
   ]
  },
  {
   "cell_type": "markdown",
   "metadata": {},
   "source": [
    "It appears platform of release alone is not a significant enough factor to influence user rating. \n",
    "\n",
    "However, to truly drive the point home, we will directly compare games released on both platforms to see if users on one platform preferred the game over users on the other platform. We believe that PC users score games lower than XBox One users due to a multitude of factors including portability to PC, cross-platform play, etc. Therefore, we will set the null hypothesis to \"For any given game, the PC user score will be the same as or higher than the XBox One user score,\" and the alternative hypothesis to \"For any given game, the PC user score will be lower than the XBox One user score.\" "
   ]
  },
  {
   "cell_type": "code",
   "execution_count": 26,
   "metadata": {},
   "outputs": [
    {
     "name": "stdout",
     "output_type": "stream",
     "text": [
      "p-value:  0.000144817683284263\n"
     ]
    },
    {
     "data": {
      "text/plain": [
       "user_score_pc      6.420952\n",
       "user_score_xone    6.859048\n",
       "dtype: float64"
      ]
     },
     "metadata": {},
     "output_type": "display_data"
    },
    {
     "name": "stdout",
     "output_type": "stream",
     "text": [
      "We reject the null hypothesis.\n"
     ]
    }
   ],
   "source": [
    "pc_df = df.query('platform == \"PC\"')\n",
    "xone_df = df.query('platform == \"XOne\"')\n",
    "merged_df = pc_df.merge(\n",
    "    xone_df, \n",
    "    on='name',\n",
    "    suffixes=['_pc', '_xone']\n",
    ")\n",
    "\n",
    "# Relational comparison of population samples for data with same length\n",
    "results = st.ttest_rel(merged_df['user_score_pc'], merged_df['user_score_xone'])\n",
    "\n",
    "print('p-value: ', results.pvalue)\n",
    "display(merged_df[['user_score_pc', 'user_score_xone']].mean())\n",
    "\n",
    "if (results.pvalue < alpha / 2) and (merged_df['user_score_pc'].mean() < merged_df['user_score_xone'].mean()):\n",
    "    print(\"We reject the null hypothesis.\")\n",
    "else:\n",
    "    print(\"We can't reject the null hypothesis.\")"
   ]
  },
  {
   "cell_type": "markdown",
   "metadata": {},
   "source": [
    "Now, unlike our general population analysis above, in our paired-sample analysis, we do have a significant p-value. Users rate the same game lower if played on PC than on XOne.\n",
    "\n",
    "### Action vs. Sports Genre Ratings\n",
    "\n",
    "The final comparison we'll make is between Action and Sports user ratings. We believe that games released on these two genres have different user ratings, and so we will set the null hypothesis to \"users rate Action games similarly to Sports games\" and the alternative hypothesis to \"users rate Action games differently than Sports games.\" Because the same users may be making the same user ratings, variance has no reason to be different, and so we ignore the `equal_var` parameter."
   ]
  },
  {
   "cell_type": "code",
   "execution_count": 27,
   "metadata": {},
   "outputs": [
    {
     "name": "stdout",
     "output_type": "stream",
     "text": [
      "p-value:  1.1820137100801342e-39\n",
      "We reject the null hypothesis.\n"
     ]
    }
   ],
   "source": [
    "# Two-sided t-test of two population means. Ignoring equal_var assuming similar user populations\n",
    "results = st.ttest_ind(df.query('genre == \"Action\"')['user_score'], df.query('genre == \"Sports\"')['user_score'])\n",
    "\n",
    "print('p-value: ', results.pvalue)\n",
    "\n",
    "if results.pvalue < alpha:\n",
    "    print(\"We reject the null hypothesis.\")\n",
    "else:\n",
    "    print(\"We can't reject the null hypothesis.\")"
   ]
  },
  {
   "cell_type": "markdown",
   "metadata": {},
   "source": [
    "These genres are rated statistically different.\n",
    "\n",
    "## Conclusion\n",
    "\n",
    "In the above analysis we isolated game sales data to 2012-2016 after a preliminary exploration of the data. We found that platforms and genre differ widely in general profitability but for the immediate future (2017) the top platforms to advertise are the PS4, XOne, WiiU, and PC, and the top genres to advertise are Shooter, Action, Fighting, Sports, and Racing. These top performers won out after taking into account a few factors, including relative market share and whether they were falling off in popularity. We found that Japan's market has different genre, ESRB rating, and platform preferences to the North America and European Union markets, preferring to play action-roleplaying games with unrated/teen ratings on more portable platforms. Finally, we found that critic scores were more correlated with the market success of a game, and users scored some genres over others, even preferring certain platforms over others for the same game title."
   ]
  }
 ],
 "metadata": {
  "kernelspec": {
   "display_name": "DSPortfolio",
   "language": "python",
   "name": "python3"
  },
  "language_info": {
   "codemirror_mode": {
    "name": "ipython",
    "version": 3
   },
   "file_extension": ".py",
   "mimetype": "text/x-python",
   "name": "python",
   "nbconvert_exporter": "python",
   "pygments_lexer": "ipython3",
   "version": "3.11.11"
  },
  "toc": {
   "base_numbering": 1,
   "nav_menu": {},
   "number_sections": true,
   "sideBar": true,
   "skip_h1_title": true,
   "title_cell": "Table of Contents",
   "title_sidebar": "Contents",
   "toc_cell": false,
   "toc_position": {},
   "toc_section_display": true,
   "toc_window_display": false
  }
 },
 "nbformat": 4,
 "nbformat_minor": 2
}
